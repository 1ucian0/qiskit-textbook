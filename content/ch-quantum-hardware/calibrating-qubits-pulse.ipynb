{
 "cells": [
  {
   "cell_type": "markdown",
   "metadata": {
    "tags": [
     "remove_cell"
    ]
   },
   "source": [
    "# Calibrating qubits using Qiskit Pulse"
   ]
  },
  {
   "cell_type": "markdown",
   "metadata": {},
   "source": [
    "Qiskit is an open-source framework for programming quantum computers (Ref. [1](#refs)). Using Qiskit, quantum circuits can be built, simulated and executed on quantum devices.\n",
    "\n",
    "Qiskit Pulse provides a language for specifying pulse level control (i.e. control of the continuous time dynamics of input signals) of a general quantum device independent of the specific hardware implementation (Ref. [2](#refs)). \n",
    "\n",
    "In this tutorial, we show how to implement typical single-qubit calibration and characterization experiments using Qiskit and Qiskit Pulse. These are typically the first round of experiments that would be done in the lab immediately after a device has been fabricated and installed into a system. The presentation is pedagogical, and allows students to explore two-level-system dynamics experimentally. All units are returned as standard SI (i.e., Hz, sec, etc.).\n",
    "\n",
    "Each experiment gives us more information about the system, which is typically used in subsequent experiments. For this reason, this notebook has to be mostly executed in order."
   ]
  },
  {
   "cell_type": "markdown",
   "metadata": {},
   "source": [
    "## Contents\n",
    "\n",
    "1. [Getting Started](#importing)\n",
    "2. [Finding the qubit Frequency using a Frequency Sweep](#frequencysweep)\n",
    "3. [Calibrating and using a $\\pi$ Pulse](#calib)    \n",
    "  3.1 [Calibrating $\\pi$ Pulses using a Rabi Experiment](#rabi)    \n",
    "  3.2 [Determining 0 vs 1](#zerovone)    \n",
    "  3.3 [Measuring $T_1$ using Inversion Recovery](#T1)    \n",
    "4. [Determining qubit Coherence](#det_co)    \n",
    "  4.1 [Measuring the qubit Frequency Precisely using a Ramsey Experiment](#ramsey)    \n",
    "  4.2 [Measuring $T_2$ using Hahn Echoes](#hahn)    \n",
    "5. [References](#refs)"
   ]
  },
  {
   "cell_type": "markdown",
   "metadata": {},
   "source": [
    "## 1. Getting Started <a id=\"importing\"></a>\n",
    "\n",
    "We'll first get our basic dependencies set up and ready to go. Since we want to use real, noisy devices for our calibration experiments in this notebook, we need to load our IBMQ account and set the appropriate backend."
   ]
  },
  {
   "cell_type": "code",
   "execution_count": 1,
   "metadata": {
    "tags": [
     "uses-hardware"
    ]
   },
   "outputs": [],
   "source": [
    "import warnings\n",
    "warnings.filterwarnings('ignore')\n",
    "from qiskit.tools.jupyter import *"
   ]
  },
  {
   "cell_type": "code",
   "execution_count": 2,
   "metadata": {
    "tags": [
     "uses-hardware"
    ]
   },
   "outputs": [],
   "source": [
    "from qiskit import IBMQ\n",
    "IBMQ.load_account()\n",
    "provider = IBMQ.get_provider(hub='ibm-q', group='open', project='main')\n",
    "backend = provider.get_backend('ibmq_manila')"
   ]
  },
  {
   "cell_type": "markdown",
   "metadata": {},
   "source": [
    "We verify that the backend supports Pulse features by checking the backend configuration. The config provides us with general information about the structure of the backend setup."
   ]
  },
  {
   "cell_type": "code",
   "execution_count": 4,
   "metadata": {
    "tags": [
     "uses-hardware"
    ]
   },
   "outputs": [],
   "source": [
    "backend_config = backend.configuration()"
   ]
  },
  {
   "cell_type": "markdown",
   "metadata": {},
   "source": [
    "For instance, we can find the sampling time for the backend pulses within the backend configuration. This will be a very useful value to us as we build and execute our calibration routines."
   ]
  },
  {
   "cell_type": "code",
   "execution_count": 5,
   "metadata": {
    "tags": [
     "uses-hardware"
    ]
   },
   "outputs": [
    {
     "name": "stdout",
     "output_type": "stream",
     "text": [
      "Sampling time: 0.2222222222222222 ns\n"
     ]
    }
   ],
   "source": [
    "dt = backend_config.dt\n",
    "print(f\"Sampling time: {dt*1e9} ns\")    # The configuration returns dt in seconds, so multiply by\n",
    "                                        # 1e9 to get nanoseconds"
   ]
  },
  {
   "cell_type": "markdown",
   "metadata": {},
   "source": [
    "The backend defaults provide a starting point for how to use the backend. It contains estimates for qubit frequencies and default programs to enact basic quantum operators. We can access them with the following:"
   ]
  },
  {
   "cell_type": "code",
   "execution_count": 6,
   "metadata": {
    "tags": [
     "uses-hardware"
    ]
   },
   "outputs": [],
   "source": [
    "backend_defaults = backend.defaults()"
   ]
  },
  {
   "cell_type": "markdown",
   "metadata": {},
   "source": [
    "## 2. Finding the qubit Frequency using a Frequency Sweep <a id=\"frequencysweep\"></a>\n",
    "\n",
    "We begin by searching for the qubit frequency. The qubit frequency is the difference in energy between the ground and excited states, which we label the $\\vert0\\rangle$ and $\\vert1\\rangle$ states, respectively. This frequency will be crucial for creating pulses which enact particular quantum operators on the qubit -- the final goal of our calibration!\n",
    "\n",
    "With superconducting qubits, higher energy levels are also available, but we fabricate the systems to be anharmonic so that we can control which transition we are exciting. That way, we are able to isolate two energy levels and treat each qubit as a basic two-level system, ignoring higher energy states.\n",
    "\n",
    "In a typical lab setting, the qubit frequency can be found by sweeping a range of frequencies and looking for signs of absorption using a tool known as a Network Analyzer. This measurement gives a rough estimate of the qubit frequency. Later on, we will see how to do a more precise measurement using a Ramsey pulse sequence."
   ]
  },
  {
   "cell_type": "markdown",
   "metadata": {},
   "source": [
    "First, we define the frequency range that will be swept in search of the qubit. Since this can be arbitrarily broad, we restrict ourselves to a window of 40 MHz around the estimated qubit frequency in `backend_defaults`. We step the frequency in units of 1 MHz."
   ]
  },
  {
   "cell_type": "code",
   "execution_count": 7,
   "metadata": {
    "tags": [
     "uses-hardware"
    ]
   },
   "outputs": [
    {
     "name": "stdout",
     "output_type": "stream",
     "text": [
      "Qubit 0 has an estimated frequency of 4.962278472106071 GHz.\n",
      "The sweep will go from 4.9422784721060715 GHz to 4.9822784721060716 GHz in steps of 1.0 MHz.\n"
     ]
    }
   ],
   "source": [
    "import numpy as np\n",
    "\n",
    "# unit conversion factors -> all backend properties returned in SI (Hz, sec, etc.)\n",
    "GHz = 1.0e9 # Gigahertz\n",
    "MHz = 1.0e6 # Megahertz\n",
    "us = 1.0e-6 # Microseconds\n",
    "ns = 1.0e-9 # Nanoseconds\n",
    "\n",
    "# We will find the qubit frequency for the following qubit.\n",
    "qubit = 0\n",
    "# We will define memory slot channel 0.\n",
    "mem_slot = 0\n",
    "\n",
    "# The sweep will be centered around the estimated qubit frequency.\n",
    "center_frequency_Hz = backend_defaults.qubit_freq_est[qubit]        # The default frequency is given in Hz\n",
    "                                                                    # warning: this will change in a future release\n",
    "print(f\"Qubit {qubit} has an estimated frequency of {center_frequency_Hz / GHz} GHz.\")\n",
    "\n",
    "# scale factor to remove factors of 10 from the data\n",
    "scale_factor = 1e-7\n",
    "\n",
    "# We will sweep 40 MHz around the estimated frequency\n",
    "frequency_span_Hz = 40 * MHz\n",
    "# in steps of 1 MHz.\n",
    "frequency_step_Hz = 1 * MHz\n",
    "\n",
    "# We will sweep 20 MHz above and 20 MHz below the estimated frequency\n",
    "frequency_min = center_frequency_Hz - frequency_span_Hz / 2\n",
    "frequency_max = center_frequency_Hz + frequency_span_Hz / 2\n",
    "# Construct an np array of the frequencies for our experiment\n",
    "frequencies_GHz = np.arange(frequency_min / GHz, \n",
    "                            frequency_max / GHz, \n",
    "                            frequency_step_Hz / GHz)\n",
    "\n",
    "print(f\"The sweep will go from {frequency_min / GHz} GHz to {frequency_max / GHz} GHz \\\n",
    "in steps of {frequency_step_Hz / MHz} MHz.\")"
   ]
  },
  {
   "cell_type": "markdown",
   "metadata": {},
   "source": [
    "We will create a pulse schedule by defining this frequency as a parameter using the parameter class.\n",
    "First, we will set the required values duration, sigma, and channel.\n",
    "\n",
    "Then we will set the pulse flow so that the specified pulses are executed sequentially.\n",
    "We will define the pulse frequency, the pulse used in the experiment, and the measurement pulse.\n",
    "Here, the pulse used in the experiment specifies the drive pulse, which is a Gaussian pulse.\n",
    "\n",
    "At each frequency, we will send a drive pulse of that frequency to the qubit and measure immediately after the pulse. "
   ]
  },
  {
   "cell_type": "code",
   "execution_count": 8,
   "metadata": {},
   "outputs": [],
   "source": [
    "# samples need to be multiples of 16\n",
    "def get_closest_multiple_of_16(num):\n",
    "    return int(num + 8 ) - (int(num + 8 ) % 16)"
   ]
  },
  {
   "cell_type": "code",
   "execution_count": 9,
   "metadata": {},
   "outputs": [],
   "source": [
    "# Convert seconds to dt\n",
    "def get_dt_from(sec):\n",
    "    return get_closest_multiple_of_16(sec/dt)"
   ]
  },
  {
   "cell_type": "code",
   "execution_count": 10,
   "metadata": {
    "tags": [
     "uses-hardware"
    ]
   },
   "outputs": [],
   "source": [
    "from qiskit import pulse                  # This is where we access all of our Pulse features!\n",
    "from qiskit.circuit import Parameter      # This is Parameter Class for variable parameters.\n",
    "from qiskit.circuit import QuantumCircuit, Gate\n",
    "\n",
    "# Drive pulse parameters (us = microseconds)\n",
    "drive_sigma_sec = 0.015 * us                           # This determines the actual width of the gaussian\n",
    "drive_duration_sec = drive_sigma_sec * 8                # This is a truncating parameter, because gaussians don't have \n",
    "                                                        # a natural finite length\n",
    "drive_amp = 0.05\n",
    "\n",
    "# Create the base schedule\n",
    "# Start with drive pulse acting on the drive channel\n",
    "freq = Parameter('freq')\n",
    "with pulse.build(backend=backend, default_alignment='sequential', name='Frequency sweep') as sweep_sched:\n",
    "    drive_duration = get_closest_multiple_of_16(pulse.seconds_to_samples(drive_duration_sec))\n",
    "    drive_sigma = pulse.seconds_to_samples(drive_sigma_sec)\n",
    "    drive_chan = pulse.drive_channel(qubit)\n",
    "    pulse.set_frequency(freq, drive_chan)\n",
    "    # Drive pulse samples\n",
    "    pulse.play(pulse.Gaussian(duration=drive_duration,\n",
    "                              sigma=drive_sigma,\n",
    "                              amp=drive_amp,\n",
    "                              name='freq_sweep_excitation_pulse'), drive_chan)"
   ]
  },
  {
   "cell_type": "code",
   "execution_count": 11,
   "metadata": {},
   "outputs": [],
   "source": [
    "sweep_gate = Gate(\"sweep\", 1, [freq])\n",
    "\n",
    "qc_sweep = QuantumCircuit(1, 1)\n",
    "\n",
    "qc_sweep.append(sweep_gate, [0])\n",
    "qc_sweep.measure(0, 0)\n",
    "qc_sweep.add_calibration(sweep_gate, (0,), sweep_sched, [freq])\n",
    "\n",
    "# Create the frequency settings for the sweep (MUST BE IN HZ)\n",
    "frequencies_Hz = frequencies_GHz*GHz\n",
    "exp_sweep_circs = [qc_sweep.assign_parameters({freq: f}, inplace=False) for f in frequencies_Hz]"
   ]
  },
  {
   "cell_type": "markdown",
   "metadata": {},
   "source": [
    "As a sanity check, it's always a good idea to look at the pulse schedule. This is done using `schedule.draw()` as shown below. "
   ]
  },
  {
   "cell_type": "code",
   "execution_count": 12,
   "metadata": {},
   "outputs": [
    {
     "data": {
      "image/png": "[encoded data removed]",
      "text/plain": [
       "<Figure size 936x237.6 with 1 Axes>"
      ]
     },
     "execution_count": 12,
     "metadata": {},
     "output_type": "execute_result"
    }
   ],
   "source": [
    "from qiskit import schedule\n",
    "\n",
    "sweep_schedule = schedule(exp_sweep_circs[0], backend)\n",
    "sweep_schedule.draw(backend=backend)"
   ]
  },
  {
   "cell_type": "markdown",
   "metadata": {},
   "source": [
    "We request that each schedule (each point in our frequency sweep) is repeated `num_shots_per_frequency` times in order to get a good estimate of the qubit response.\n",
    "\n",
    "We also specify measurement settings. `meas_level=0` returns raw data (an array of complex values per shot), `meas_level=1` returns kerneled data (one complex value per shot), and `meas_level=2` returns classified data (a 0 or 1 bit per shot). We choose `meas_level=1` to replicate what we would be working with if we were in the lab, and hadn't yet calibrated the discriminator to classify 0s and 1s. We ask for the `'avg'` of the results, rather than each shot individually."
   ]
  },
  {
   "cell_type": "markdown",
   "metadata": {},
   "source": [
    "You may see yet another unit change warning, we can safely ignore this. Finally, we can run the assembled program on the backend using:"
   ]
  },
  {
   "cell_type": "code",
   "execution_count": 13,
   "metadata": {
    "tags": [
     "uses-hardware"
    ]
   },
   "outputs": [],
   "source": [
    "num_shots_per_frequency = 1024\n",
    "\n",
    "job = backend.run(exp_sweep_circs, \n",
    "                  meas_level=1, \n",
    "                  meas_return='avg', \n",
    "                  shots=num_shots_per_frequency)"
   ]
  },
  {
   "cell_type": "markdown",
   "metadata": {},
   "source": [
    "It is always a good idea to monitor the job status by using `job_monitor()`"
   ]
  },
  {
   "cell_type": "code",
   "execution_count": 14,
   "metadata": {
    "tags": [
     "uses-hardware"
    ]
   },
   "outputs": [
    {
     "name": "stdout",
     "output_type": "stream",
     "text": [
      "Job Status: job has successfully run\n"
     ]
    }
   ],
   "source": [
    "from qiskit.tools.monitor import job_monitor\n",
    "job_monitor(job)"
   ]
  },
  {
   "cell_type": "markdown",
   "metadata": {},
   "source": [
    "Once the job is run, the results can be retrieved using:"
   ]
  },
  {
   "cell_type": "code",
   "execution_count": 15,
   "metadata": {
    "tags": [
     "uses-hardware"
    ]
   },
   "outputs": [],
   "source": [
    "frequency_sweep_results = job.result(timeout=120) # timeout parameter set to 120 seconds"
   ]
  },
  {
   "cell_type": "markdown",
   "metadata": {},
   "source": [
    "We will extract the results and plot them using `matplotlib`:"
   ]
  },
  {
   "cell_type": "code",
   "execution_count": 16,
   "metadata": {
    "tags": [
     "uses-hardware"
    ]
   },
   "outputs": [
    {
     "data": {
      "image/png": "[encoded data removed]",
      "text/plain": [
       "<Figure size 432x288 with 1 Axes>"
      ]
     },
     "metadata": {
      "needs_background": "light"
     },
     "output_type": "display_data"
    }
   ],
   "source": [
    "import matplotlib.pyplot as plt\n",
    "\n",
    "sweep_values = []\n",
    "for i in range(len(frequency_sweep_results.results)):\n",
    "    # Get the results from the ith experiment\n",
    "    res = frequency_sweep_results.get_memory(i)*scale_factor\n",
    "    # Get the results for `qubit` from this experiment\n",
    "    sweep_values.append(res[qubit])\n",
    "\n",
    "plt.scatter(frequencies_GHz, np.real(sweep_values), color='black') # plot real part of sweep values\n",
    "plt.xlim([min(frequencies_GHz), max(frequencies_GHz)])\n",
    "plt.xlabel(\"Frequency [GHz]\")\n",
    "plt.ylabel(\"Measured signal [a.u.]\")\n",
    "plt.show()"
   ]
  },
  {
   "cell_type": "markdown",
   "metadata": {},
   "source": [
    "As you can see above, the peak near the center corresponds to the location of the qubit frequency. The signal shows power-broadening, which is a signature that we are able to drive the qubit off-resonance as we get close to the center frequency. To get the value of the peak frequency, we will fit the values to a resonance response curve, which is typically a Lorentzian shape."
   ]
  },
  {
   "cell_type": "code",
   "execution_count": 17,
   "metadata": {
    "tags": [
     "uses-hardware"
    ]
   },
   "outputs": [],
   "source": [
    "from scipy.optimize import curve_fit\n",
    "\n",
    "def fit_function(x_values, y_values, function, init_params):\n",
    "    fitparams, conv = curve_fit(function, x_values, y_values, init_params)\n",
    "    y_fit = function(x_values, *fitparams)\n",
    "    \n",
    "    return fitparams, y_fit"
   ]
  },
  {
   "cell_type": "code",
   "execution_count": 18,
   "metadata": {
    "tags": [
     "uses-hardware"
    ]
   },
   "outputs": [],
   "source": [
    "fit_params, y_fit = fit_function(frequencies_GHz,\n",
    "                                 np.real(sweep_values), \n",
    "                                 lambda x, A, q_freq, B, C: (A / np.pi) * (B / ((x - q_freq)**2 + B**2)) + C,\n",
    "                                 [1, 4.975, 1, -2] # initial parameters for curve_fit\n",
    "                                )"
   ]
  },
  {
   "cell_type": "code",
   "execution_count": 19,
   "metadata": {
    "tags": [
     "uses-hardware"
    ]
   },
   "outputs": [
    {
     "data": {
      "image/png": "[encoded data removed]",
      "text/plain": [
       "<Figure size 432x288 with 1 Axes>"
      ]
     },
     "metadata": {
      "needs_background": "light"
     },
     "output_type": "display_data"
    }
   ],
   "source": [
    "plt.scatter(frequencies_GHz, np.real(sweep_values), color='black')\n",
    "plt.plot(frequencies_GHz, y_fit, color='red')\n",
    "plt.xlim([min(frequencies_GHz), max(frequencies_GHz)])\n",
    "\n",
    "plt.xlabel(\"Frequency [GHz]\")\n",
    "plt.ylabel(\"Measured Signal [a.u.]\")\n",
    "plt.show()"
   ]
  },
  {
   "cell_type": "code",
   "execution_count": 20,
   "metadata": {
    "tags": [
     "uses-hardware"
    ]
   },
   "outputs": [
    {
     "name": "stdout",
     "output_type": "stream",
     "text": [
      "We've updated our qubit frequency estimate from 4.96228 GHz to 4.96234 GHz.\n"
     ]
    }
   ],
   "source": [
    "A, rough_qubit_frequency, B, C = fit_params\n",
    "rough_qubit_frequency = rough_qubit_frequency*GHz # make sure qubit freq is in Hz\n",
    "print(f\"We've updated our qubit frequency estimate from \"\n",
    "      f\"{round(backend_defaults.qubit_freq_est[qubit] / GHz, 5)} GHz to {round(rough_qubit_frequency/GHz, 5)} GHz.\")"
   ]
  },
  {
   "cell_type": "markdown",
   "metadata": {},
   "source": [
    "## 3. Calibrating and using a $\\pi$ Pulse <a id=\"calib\"></a>\n",
    "\n",
    "### 3.1 Calibrating $\\pi$ Pulses using a Rabi Experiment <a id=\"rabi\"></a>\n",
    "\n",
    "Once we know the frequency of our qubit, the next step is to determine the strength of a $\\pi$ pulse. Strictly speaking of the qubit as a two-level system, a $\\pi$ pulse is one that takes the qubit from $\\vert0\\rangle$ to $\\vert1\\rangle$, and vice versa. This is also called the $X$ or $X180$ gate, or bit-flip operator. We already know the microwave frequency needed to drive this transition from the previous frequency sweep experiment, and we now seek the amplitude needed to achieve a $\\pi$ rotation from $\\vert0\\rangle$ to $\\vert1\\rangle$. The desired rotation is shown on the Bloch sphere in the figure below -- you can see that the $\\pi$ pulse gets its name from the angle it sweeps over on a Bloch sphere."
   ]
  },
  {
   "cell_type": "markdown",
   "metadata": {},
   "source": [
    "<img src=\"images/zero_to_one_X180.png\">"
   ]
  },
  {
   "cell_type": "markdown",
   "metadata": {},
   "source": [
    "We will change the drive amplitude in small increments and measuring the state of the qubit each time. We expect to see oscillations which are commonly named Rabi oscillations, as the qubit goes from $\\vert0\\rangle$ to $\\vert1\\rangle$ and back."
   ]
  },
  {
   "cell_type": "code",
   "execution_count": 21,
   "metadata": {
    "tags": [
     "uses-hardware"
    ]
   },
   "outputs": [],
   "source": [
    "# This experiment uses these values from the previous experiment:\n",
    "    # `qubit`,\n",
    "    # `mem_slot`, and\n",
    "    # `rough_qubit_frequency`.\n",
    "\n",
    "# Rabi experiment parameters\n",
    "num_rabi_points = 50\n",
    "\n",
    "# Drive amplitude values to iterate over: 50 amplitudes evenly spaced from 0 to 0.75\n",
    "drive_amp_min = 0\n",
    "drive_amp_max = 0.75\n",
    "drive_amps = np.linspace(drive_amp_min, drive_amp_max, num_rabi_points)"
   ]
  },
  {
   "cell_type": "code",
   "execution_count": 25,
   "metadata": {
    "tags": [
     "uses-hardware"
    ]
   },
   "outputs": [],
   "source": [
    "# Build the Rabi experiments:\n",
    "#    A drive pulse at the qubit frequency, followed by a measurement,\n",
    "#    where we vary the drive amplitude each time.\n",
    "\n",
    "drive_amp = Parameter('drive_amp')\n",
    "with pulse.build(backend=backend, default_alignment='sequential', name='Rabi Experiment') as rabi_sched:\n",
    "    drive_duration = get_closest_multiple_of_16(pulse.seconds_to_samples(drive_duration_sec))\n",
    "    drive_sigma = pulse.seconds_to_samples(drive_sigma_sec)\n",
    "    drive_chan = pulse.drive_channel(qubit)\n",
    "    pulse.set_frequency(rough_qubit_frequency, drive_chan)\n",
    "    pulse.play(pulse.Gaussian(duration=drive_duration,\n",
    "                              amp=drive_amp,\n",
    "                              sigma=drive_sigma,\n",
    "                              name='Rabi Pulse'), drive_chan)"
   ]
  },
  {
   "cell_type": "code",
   "execution_count": 26,
   "metadata": {},
   "outputs": [],
   "source": [
    "rabi_gate = Gate(\"rabi\", 1, [drive_amp])\n",
    "\n",
    "qc_rabi = QuantumCircuit(1, 1)\n",
    "\n",
    "qc_rabi.append(rabi_gate, [0])\n",
    "qc_rabi.measure(0, 0)\n",
    "qc_rabi.add_calibration(rabi_gate, (0,), rabi_sched, [drive_amp])\n",
    "\n",
    "exp_rabi_circs = [qc_rabi.assign_parameters({drive_amp: a}, inplace=False) for a in drive_amps]"
   ]
  },
  {
   "cell_type": "markdown",
   "metadata": {},
   "source": [
    "The schedule will look essentially the same as the frequency sweep experiment. The only difference is that we are running a set of experiments which vary the amplitude of the drive pulse, rather than its modulation frequency."
   ]
  },
  {
   "cell_type": "code",
   "execution_count": 27,
   "metadata": {},
   "outputs": [
    {
     "data": {
      "image/png": "[encoded data removed]",
      "text/plain": [
       "<Figure size 936x237.6 with 1 Axes>"
      ]
     },
     "execution_count": 27,
     "metadata": {},
     "output_type": "execute_result"
    }
   ],
   "source": [
    "rabi_schedule = schedule(exp_rabi_circs[-1], backend)\n",
    "rabi_schedule.draw(backend=backend)"
   ]
  },
  {
   "cell_type": "code",
   "execution_count": 28,
   "metadata": {
    "tags": [
     "uses-hardware"
    ]
   },
   "outputs": [
    {
     "name": "stdout",
     "output_type": "stream",
     "text": [
      "Job Status: job has successfully run\n"
     ]
    }
   ],
   "source": [
    "num_shots_per_point = 1024\n",
    "\n",
    "job = backend.run(exp_rabi_circs, \n",
    "                  meas_level=1, \n",
    "                  meas_return='avg', \n",
    "                  shots=num_shots_per_point)\n",
    "\n",
    "job_monitor(job)"
   ]
  },
  {
   "cell_type": "code",
   "execution_count": 29,
   "metadata": {
    "tags": [
     "uses-hardware"
    ]
   },
   "outputs": [],
   "source": [
    "rabi_results = job.result(timeout=120)"
   ]
  },
  {
   "cell_type": "markdown",
   "metadata": {},
   "source": [
    "Now that we have our results, we will extract them and fit them to a sinusoidal curve. For the range of drive amplitudes we selected, we expect that we will rotate the qubit several times completely around the Bloch sphere, starting from $|0\\rangle$. The amplitude of this sinusoid tells us the fraction of the shots at that Rabi drive amplitude which yielded the $|1\\rangle$ state.  We want to find the drive amplitude needed for the signal to oscillate from a maximum (all $|0\\rangle$ state) to a minimum (all $|1\\rangle$ state) -- this gives the calibrated amplitude that enacts a $\\pi$ pulse."
   ]
  },
  {
   "cell_type": "code",
   "execution_count": 30,
   "metadata": {
    "tags": [
     "uses-hardware"
    ]
   },
   "outputs": [],
   "source": [
    "# center data around 0\n",
    "def baseline_remove(values):\n",
    "    return np.array(values) - np.mean(values)"
   ]
  },
  {
   "cell_type": "code",
   "execution_count": 31,
   "metadata": {
    "tags": [
     "uses-hardware"
    ]
   },
   "outputs": [
    {
     "data": {
      "image/png": "[encoded data removed]",
      "text/plain": [
       "<Figure size 432x288 with 1 Axes>"
      ]
     },
     "metadata": {
      "needs_background": "light"
     },
     "output_type": "display_data"
    }
   ],
   "source": [
    "rabi_values = []\n",
    "for i in range(num_rabi_points):\n",
    "    # Get the results for `qubit` from the ith experiment\n",
    "    rabi_values.append(rabi_results.get_memory(i)[qubit] * scale_factor)\n",
    "\n",
    "rabi_values = np.real(baseline_remove(rabi_values))\n",
    "\n",
    "plt.xlabel(\"Drive amp [a.u.]\")\n",
    "plt.ylabel(\"Measured signal [a.u.]\")\n",
    "plt.scatter(drive_amps, rabi_values, color='black') # plot real part of Rabi values\n",
    "plt.show()"
   ]
  },
  {
   "cell_type": "code",
   "execution_count": 32,
   "metadata": {
    "tags": [
     "uses-hardware"
    ]
   },
   "outputs": [
    {
     "data": {
      "image/png": "[encoded data removed]",
      "text/plain": [
       "<Figure size 432x288 with 1 Axes>"
      ]
     },
     "metadata": {
      "needs_background": "light"
     },
     "output_type": "display_data"
    }
   ],
   "source": [
    "fit_params, y_fit = fit_function(drive_amps,\n",
    "                                 rabi_values, \n",
    "                                 lambda x, A, B, drive_period, phi: (A*np.cos(2*np.pi*x/drive_period - phi) + B),\n",
    "                                 [2, 0, 0.2, 0])\n",
    "\n",
    "plt.scatter(drive_amps, rabi_values, color='black')\n",
    "plt.plot(drive_amps, y_fit, color='red')\n",
    "\n",
    "drive_period = fit_params[2] # get period of rabi oscillation\n",
    "\n",
    "plt.axvline(drive_period/2, color='red', linestyle='--')\n",
    "plt.axvline(drive_period, color='red', linestyle='--')\n",
    "plt.annotate(\"\", xy=(drive_period, 0), xytext=(drive_period/2,0), arrowprops=dict(arrowstyle=\"<->\", color='red'))\n",
    "plt.annotate(\"$\\pi$\", xy=(drive_period/2-0.03, 0.1), color='red')\n",
    "\n",
    "plt.xlabel(\"Drive amp [a.u.]\", fontsize=15)\n",
    "plt.ylabel(\"Measured signal [a.u.]\", fontsize=15)\n",
    "plt.show()"
   ]
  },
  {
   "cell_type": "code",
   "execution_count": 33,
   "metadata": {
    "tags": [
     "uses-hardware"
    ]
   },
   "outputs": [
    {
     "name": "stdout",
     "output_type": "stream",
     "text": [
      "Pi Amplitude = 0.09089816906786484\n"
     ]
    }
   ],
   "source": [
    "pi_amp = abs(drive_period / 2)\n",
    "print(f\"Pi Amplitude = {pi_amp}\")"
   ]
  },
  {
   "cell_type": "markdown",
   "metadata": {},
   "source": [
    "### Our $\\pi$ pulse!\n",
    "Let's define our pulse, with the amplitude we just found, so we can use it in later experiments."
   ]
  },
  {
   "cell_type": "code",
   "execution_count": 34,
   "metadata": {},
   "outputs": [],
   "source": [
    "with pulse.build(backend) as pi_pulse:\n",
    "    drive_duration = get_closest_multiple_of_16(pulse.seconds_to_samples(drive_duration_sec))\n",
    "    drive_sigma = pulse.seconds_to_samples(drive_sigma_sec)\n",
    "    drive_chan = pulse.drive_channel(qubit)\n",
    "    pulse.play(pulse.Gaussian(duration=drive_duration,\n",
    "                              amp=pi_amp,\n",
    "                              sigma=drive_sigma,\n",
    "                              name='pi_pulse'), drive_chan)"
   ]
  },
  {
   "cell_type": "markdown",
   "metadata": {},
   "source": [
    "### 3.2 Determining 0 vs 1 <a id=\"zerovone\"></a>"
   ]
  },
  {
   "cell_type": "markdown",
   "metadata": {},
   "source": [
    "Once our $\\pi$ pulses have been calibrated, we can now create the state $\\vert1\\rangle$ with good probability. We can use this to find out what the states $\\vert0\\rangle$ and $\\vert1\\rangle$ look like in our measurements, by repeatedly preparing them and plotting the measured signal. This is what we use to build a discriminator, which is simply a function which takes a measured and kerneled complex value (`meas_level=1`) and classifies it as a 0 or a 1 (`meas_level=2`)."
   ]
  },
  {
   "cell_type": "code",
   "execution_count": 35,
   "metadata": {},
   "outputs": [
    {
     "data": {
      "text/plain": [
       "<qiskit.circuit.instructionset.InstructionSet at 0x17dcce40940>"
      ]
     },
     "execution_count": 35,
     "metadata": {},
     "output_type": "execute_result"
    }
   ],
   "source": [
    "# Ground state \n",
    "qc_gnd = QuantumCircuit(1, 1)\n",
    "qc_gnd.measure(0, 0)"
   ]
  },
  {
   "cell_type": "code",
   "execution_count": 36,
   "metadata": {},
   "outputs": [
    {
     "data": {
      "image/png": "[encoded data removed]",
      "text/plain": [
       "<Figure size 936x118.8 with 1 Axes>"
      ]
     },
     "execution_count": 36,
     "metadata": {},
     "output_type": "execute_result"
    }
   ],
   "source": [
    "gnd_schedule = schedule(qc_gnd, backend)\n",
    "gnd_schedule.draw(backend=backend)"
   ]
  },
  {
   "cell_type": "code",
   "execution_count": 37,
   "metadata": {},
   "outputs": [],
   "source": [
    "# Excited state schedule\n",
    "with pulse.build(backend=backend, default_alignment='sequential', name='excited state') as exc_schedule:\n",
    "    drive_chan = pulse.drive_channel(qubit)\n",
    "    pulse.set_frequency(rough_qubit_frequency, drive_chan)\n",
    "    pulse.call(pi_pulse)"
   ]
  },
  {
   "cell_type": "code",
   "execution_count": 38,
   "metadata": {},
   "outputs": [],
   "source": [
    "exc_gate = Gate(\"exc\", 1, [])\n",
    "\n",
    "qc_exc = QuantumCircuit(1, 1)\n",
    "qc_exc.append(exc_gate, [0])\n",
    "qc_exc.measure(0, 0)\n",
    "\n",
    "qc_exc.add_calibration(exc_gate, (0,), exc_schedule, [])"
   ]
  },
  {
   "cell_type": "code",
   "execution_count": 39,
   "metadata": {},
   "outputs": [
    {
     "data": {
      "image/png": "[encoded data removed]",
      "text/plain": [
       "<Figure size 936x237.6 with 1 Axes>"
      ]
     },
     "execution_count": 39,
     "metadata": {},
     "output_type": "execute_result"
    }
   ],
   "source": [
    "exec_schedule = schedule(qc_exc, backend)\n",
    "exec_schedule.draw(backend=backend)"
   ]
  },
  {
   "cell_type": "markdown",
   "metadata": {},
   "source": [
    "We assemble the ground and excited state preparation schedules. Each of these will run `num_shots` times. We choose `meas_level=1` this time, because we do not want the results already classified for us as $|0\\rangle$ or $|1\\rangle$. Instead, we want kerneled data: raw acquired data that has gone through a kernel function to yield a single complex value for each shot. (You can think of a kernel as a dot product applied to the raw measurement data.)"
   ]
  },
  {
   "cell_type": "code",
   "execution_count": 40,
   "metadata": {
    "tags": [
     "uses-hardware"
    ]
   },
   "outputs": [
    {
     "name": "stdout",
     "output_type": "stream",
     "text": [
      "Job Status: job has successfully run\n"
     ]
    }
   ],
   "source": [
    "# Execution settings\n",
    "num_shots = 1024\n",
    "\n",
    "job = backend.run([qc_gnd, qc_exc], \n",
    "                  meas_level=1, \n",
    "                  meas_return='single', \n",
    "                  shots=num_shots)\n",
    "\n",
    "job_monitor(job)"
   ]
  },
  {
   "cell_type": "code",
   "execution_count": 41,
   "metadata": {
    "tags": [
     "uses-hardware"
    ]
   },
   "outputs": [],
   "source": [
    "gnd_exc_results = job.result(timeout=120)"
   ]
  },
  {
   "cell_type": "markdown",
   "metadata": {},
   "source": [
    "Now that we have the results, we can visualize the two populations which we have prepared on a simple scatter plot, showing results from the ground state program in blue and results from the excited state preparation program in red. Note: If the populations irregularly shaped (not approximately circular), try re-running the notebook."
   ]
  },
  {
   "cell_type": "code",
   "execution_count": 42,
   "metadata": {
    "tags": [
     "uses-hardware"
    ]
   },
   "outputs": [
    {
     "data": {
      "image/png": "[encoded data removed]",
      "text/plain": [
       "<Figure size 432x288 with 1 Axes>"
      ]
     },
     "metadata": {
      "needs_background": "light"
     },
     "output_type": "display_data"
    }
   ],
   "source": [
    "gnd_results = gnd_exc_results.get_memory(0)[:, qubit]*scale_factor\n",
    "exc_results = gnd_exc_results.get_memory(1)[:, qubit]*scale_factor\n",
    "\n",
    "plt.figure()\n",
    "\n",
    "# Plot all the results\n",
    "# All results from the gnd_schedule are plotted in blue\n",
    "plt.scatter(np.real(gnd_results), np.imag(gnd_results), \n",
    "                s=5, cmap='viridis', c='blue', alpha=0.5, label='state_0')\n",
    "# All results from the exc_schedule are plotted in red\n",
    "plt.scatter(np.real(exc_results), np.imag(exc_results), \n",
    "                s=5, cmap='viridis', c='red', alpha=0.5, label='state_1')\n",
    "\n",
    "plt.axis('square')\n",
    "\n",
    "# Plot a large dot for the average result of the 0 and 1 states.\n",
    "mean_gnd = np.mean(gnd_results) # takes mean of both real and imaginary parts\n",
    "mean_exc = np.mean(exc_results)\n",
    "plt.scatter(np.real(mean_gnd), np.imag(mean_gnd), \n",
    "            s=200, cmap='viridis', c='black',alpha=1.0, label='state_0_mean')\n",
    "plt.scatter(np.real(mean_exc), np.imag(mean_exc), \n",
    "            s=200, cmap='viridis', c='black',alpha=1.0, label='state_1_mean')\n",
    "\n",
    "plt.ylabel('I [a.u.]', fontsize=15)\n",
    "plt.xlabel('Q [a.u.]', fontsize=15)\n",
    "plt.title(\"0-1 discrimination\", fontsize=15)\n",
    "\n",
    "plt.show()"
   ]
  },
  {
   "cell_type": "markdown",
   "metadata": {},
   "source": [
    "We can clearly see that the two populations of $|0\\rangle$ and $|1\\rangle$ form their own clusters. Kerneled measurement results (from `meas_level=1`) are classified (into `meas_level=2`) by applying a discriminator which optimally separates these two clusters. Optimal separation is simply a line in the IQ plane, equidistant from the average results we plotted above in the large dot, and normal to the line connecting the two dots.\n",
    "\n",
    "We can set up a quick classifier function by returning 0 if a given point is closer to the mean of the ground state results, and returning 1 if the point is closer to the average excited state results."
   ]
  },
  {
   "cell_type": "code",
   "execution_count": 43,
   "metadata": {},
   "outputs": [],
   "source": [
    "import math\n",
    "\n",
    "def classify(point: complex):\n",
    "    \"\"\"Classify the given state as |0> or |1>.\"\"\"\n",
    "    def distance(a, b):\n",
    "        return math.sqrt((np.real(a) - np.real(b))**2 + (np.imag(a) - np.imag(b))**2)\n",
    "    return int(distance(point, mean_exc) < distance(point, mean_gnd))\n"
   ]
  },
  {
   "cell_type": "markdown",
   "metadata": {},
   "source": [
    "### 3.3 Measuring $T_1$ using Inversion Recovery <a id=\"T1\"></a>\n",
    "The $T_1$ time of a qubit is the time it takes for a qubit to decay from the excited state to the ground state. It is important because it limits the duration of meaningful programs we can run on the quantum computer.\n",
    "\n",
    "Measuring $T_1$ is similar to our previous experiments, and uses the $\\pi$ pulse we've calibrated. We again apply a single drive pulse, our $\\pi$ pulse, then apply a measure pulse. However, this time we do not apply the measurement immediately. We insert a delay, and vary that delay between experiments. When we plot the measured signal against delay time, we will see a signal that decays exponentially as the qubit relaxes in energy. The decay time is the $T_1$, or relaxation time, of the qubit!"
   ]
  },
  {
   "cell_type": "code",
   "execution_count": 44,
   "metadata": {
    "tags": [
     "uses-hardware"
    ]
   },
   "outputs": [],
   "source": [
    "# T1 experiment parameters\n",
    "time_max_sec = 450 * us\n",
    "time_step_sec = 6.5 * us\n",
    "delay_times_sec = np.arange(1 * us, time_max_sec, time_step_sec)\n",
    "\n",
    "# We will use the same `pi_pulse` and qubit frequency that we calibrated and used before"
   ]
  },
  {
   "cell_type": "code",
   "execution_count": 45,
   "metadata": {
    "tags": [
     "uses-hardware"
    ]
   },
   "outputs": [],
   "source": [
    "# Create schedules for the experiment \n",
    "delay = Parameter('delay')\n",
    "with pulse.build(backend=backend, default_alignment='sequential', name=\"T1 delay Experiment\") as t1_schedule:\n",
    "    drive_chan = pulse.drive_channel(qubit)\n",
    "    pulse.set_frequency(rough_qubit_frequency, drive_chan)\n",
    "    pulse.call(pi_pulse)\n",
    "    pulse.delay(delay, drive_chan)"
   ]
  },
  {
   "cell_type": "code",
   "execution_count": 46,
   "metadata": {},
   "outputs": [],
   "source": [
    "t1_gate = Gate(\"t1\", 1, [delay])\n",
    "\n",
    "qc_t1 = QuantumCircuit(1, 1)\n",
    "\n",
    "qc_t1.append(t1_gate, [0])\n",
    "qc_t1.measure(0, 0)\n",
    "qc_t1.add_calibration(t1_gate, (0,), t1_schedule, [delay])\n",
    "\n",
    "exp_t1_circs = [qc_t1.assign_parameters({delay: get_dt_from(d)}, inplace=False) for d in delay_times_sec]"
   ]
  },
  {
   "cell_type": "markdown",
   "metadata": {},
   "source": [
    "We can check out our $T_1$ schedule, too. To really get a sense of this experiment, try looking at a couple of the schedules by running the next cell multiple times, with different values of `sched_idx`. You will see the measurement pulse start later as you increase `sched_idx`."
   ]
  },
  {
   "cell_type": "code",
   "execution_count": 47,
   "metadata": {},
   "outputs": [
    {
     "data": {
      "image/png": "[encoded data removed]",
      "text/plain": [
       "<Figure size 936x237.6 with 1 Axes>"
      ]
     },
     "execution_count": 47,
     "metadata": {},
     "output_type": "execute_result"
    }
   ],
   "source": [
    "sched_idx = -1\n",
    "t1_schedule = schedule(exp_t1_circs[sched_idx], backend)\n",
    "t1_schedule.draw(backend=backend)"
   ]
  },
  {
   "cell_type": "code",
   "execution_count": 48,
   "metadata": {
    "tags": [
     "uses-hardware"
    ]
   },
   "outputs": [
    {
     "name": "stdout",
     "output_type": "stream",
     "text": [
      "Job Status: job has successfully run\n"
     ]
    }
   ],
   "source": [
    "# Execution settings\n",
    "num_shots = 256\n",
    "\n",
    "job = backend.run(exp_t1_circs, \n",
    "                  meas_level=1, \n",
    "                  meas_return='single', \n",
    "                  shots=num_shots)\n",
    "\n",
    "job_monitor(job)"
   ]
  },
  {
   "cell_type": "code",
   "execution_count": 49,
   "metadata": {
    "tags": [
     "uses-hardware"
    ]
   },
   "outputs": [],
   "source": [
    "t1_results = job.result(timeout=120)"
   ]
  },
  {
   "cell_type": "code",
   "execution_count": 50,
   "metadata": {},
   "outputs": [
    {
     "data": {
      "image/png": "[encoded data removed]",
      "text/plain": [
       "<Figure size 432x288 with 1 Axes>"
      ]
     },
     "metadata": {
      "needs_background": "light"
     },
     "output_type": "display_data"
    }
   ],
   "source": [
    "t1_values = []\n",
    "\n",
    "for i in range(len(delay_times_sec)):\n",
    "    iq_data = t1_results.get_memory(i)[:,qubit] * scale_factor\n",
    "    t1_values.append(sum(map(classify, iq_data)) / num_shots)\n",
    "\n",
    "plt.scatter(delay_times_sec/us, t1_values, color='black') \n",
    "plt.title(\"$T_1$ Experiment\", fontsize=15)\n",
    "plt.xlabel('Delay before measurement [$\\mu$s]', fontsize=15)\n",
    "plt.ylabel('Signal [a.u.]', fontsize=15)\n",
    "plt.show()"
   ]
  },
  {
   "cell_type": "markdown",
   "metadata": {},
   "source": [
    "We can then fit the data to a decaying exponential, giving us T1!"
   ]
  },
  {
   "cell_type": "code",
   "execution_count": 51,
   "metadata": {
    "tags": [
     "uses-hardware"
    ]
   },
   "outputs": [
    {
     "data": {
      "image/png": "[encoded data removed]",
      "text/plain": [
       "<Figure size 432x288 with 1 Axes>"
      ]
     },
     "metadata": {
      "needs_background": "light"
     },
     "output_type": "display_data"
    }
   ],
   "source": [
    "# Fit the data\n",
    "fit_params, y_fit = fit_function(delay_times_sec/us, t1_values, \n",
    "            lambda x, A, C, T1: (A * np.exp(-x / T1) + C),\n",
    "            [-3, 3, 100]\n",
    "            )\n",
    "\n",
    "_, _, T1 = fit_params\n",
    "\n",
    "plt.scatter(delay_times_sec/us, t1_values, color='black')\n",
    "plt.plot(delay_times_sec/us, y_fit, color='red', label=f\"T1 = {T1:.2f} us\")\n",
    "plt.xlim(0, np.max(delay_times_sec/us))\n",
    "plt.title(\"$T_1$ Experiment\", fontsize=15)\n",
    "plt.xlabel('Delay before measurement [$\\mu$s]', fontsize=15)\n",
    "plt.ylabel('Signal [a.u.]', fontsize=15)\n",
    "plt.legend()\n",
    "plt.show()"
   ]
  },
  {
   "cell_type": "markdown",
   "metadata": {},
   "source": [
    "# 4. Determining qubit Coherence <a id=\"det_co\"></a>\n",
    "\n",
    "### 4.1 Measuring the qubit Frequency Precisely using a Ramsey Experiment <a id=\"ramsey\"></a>\n",
    "\n",
    "Now, we determine the qubit frequency to better precision. This is done using a Ramsey pulse sequence. In this pulse sequence, we first apply a $\\pi/2$ (\"pi over two\") pulse, wait some time $\\Delta t$, and then apply another $\\pi/2$ pulse. Since we are measuring the signal from the qubit at the same frequency as the pulses, we should observe oscillations at the difference in frequency between the applied pulses and the qubit."
   ]
  },
  {
   "cell_type": "code",
   "execution_count": 52,
   "metadata": {
    "tags": [
     "uses-hardware"
    ]
   },
   "outputs": [],
   "source": [
    "# Ramsey experiment parameters\n",
    "time_max_sec = 1.8 * us\n",
    "time_step_sec = 0.025 * us\n",
    "delay_times_sec = np.arange(0.1 * us, time_max_sec, time_step_sec)\n",
    "\n",
    "# Drive parameters\n",
    "# The drive amplitude for pi/2 is simply half the amplitude of the pi pulse\n",
    "drive_amp = pi_amp / 2\n",
    "\n",
    "# x_90 is a concise way to say pi_over_2; i.e., an X rotation of 90 degrees\n",
    "with pulse.build(backend) as x90_pulse:\n",
    "    drive_duration = get_closest_multiple_of_16(pulse.seconds_to_samples(drive_duration_sec))\n",
    "    drive_sigma = pulse.seconds_to_samples(drive_sigma_sec)\n",
    "    drive_chan = pulse.drive_channel(qubit)\n",
    "    pulse.play(pulse.Gaussian(duration=drive_duration,\n",
    "                              amp=drive_amp,\n",
    "                              sigma=drive_sigma,\n",
    "                              name='x90_pulse'), drive_chan)"
   ]
  },
  {
   "cell_type": "markdown",
   "metadata": {},
   "source": [
    "Here, we will apply a commonly used experimental trick. We will drive the pulses off-resonance by a known amount, which we will call `detuning_MHz`. The measured Ramsey signal should show oscillations with frequency near `detuning_MHz`, with a small offset. This small offset is exactly how far away `rough_qubit_frequency` was from the qubit frequency. "
   ]
  },
  {
   "cell_type": "code",
   "execution_count": 53,
   "metadata": {},
   "outputs": [],
   "source": [
    "detuning_MHz = 2 \n",
    "ramsey_frequency = round(rough_qubit_frequency + detuning_MHz * MHz, 6) # need ramsey freq in Hz"
   ]
  },
  {
   "cell_type": "code",
   "execution_count": 54,
   "metadata": {
    "tags": [
     "uses-hardware"
    ]
   },
   "outputs": [],
   "source": [
    "# create schedules for Ramsey experiment \n",
    "delay = Parameter('delay')\n",
    "with pulse.build(backend=backend, default_alignment='sequential', name=\"Ramsey delay Experiment\") as ramsey_schedule:\n",
    "    drive_chan = pulse.drive_channel(qubit)\n",
    "    pulse.set_frequency(ramsey_frequency, drive_chan)\n",
    "    pulse.call(x90_pulse)\n",
    "    pulse.delay(delay, drive_chan)\n",
    "    pulse.call(x90_pulse)"
   ]
  },
  {
   "cell_type": "code",
   "execution_count": 55,
   "metadata": {},
   "outputs": [],
   "source": [
    "ramsey_gate = Gate(\"ramsey\", 1, [delay])\n",
    "\n",
    "qc_ramsey = QuantumCircuit(1, 1)\n",
    "\n",
    "qc_ramsey.append(ramsey_gate, [0])\n",
    "qc_ramsey.measure(0, 0)\n",
    "qc_ramsey.add_calibration(ramsey_gate, (0,), ramsey_schedule, [delay])\n",
    "\n",
    "exp_ramsey_circs = [qc_ramsey.assign_parameters({delay: get_dt_from(d)}, inplace=False) for d in delay_times_sec]"
   ]
  },
  {
   "cell_type": "markdown",
   "metadata": {},
   "source": [
    "Just like for $T_1$ schedules, it will be illuminating to execute the next cell multiple times to inspect a few of the schedules we've made. As you look at increasing indices of `ramsey_schedules`, the delay between the two $\\pi/2$ pulses will increase."
   ]
  },
  {
   "cell_type": "code",
   "execution_count": 56,
   "metadata": {},
   "outputs": [
    {
     "data": {
      "image/png": "[encoded data removed]",
      "text/plain": [
       "<Figure size 936x237.6 with 1 Axes>"
      ]
     },
     "execution_count": 56,
     "metadata": {},
     "output_type": "execute_result"
    }
   ],
   "source": [
    "ramsey_schedule = schedule(exp_ramsey_circs[2], backend)\n",
    "ramsey_schedule.draw(backend=backend)"
   ]
  },
  {
   "cell_type": "code",
   "execution_count": 57,
   "metadata": {
    "tags": [
     "uses-hardware"
    ]
   },
   "outputs": [
    {
     "name": "stdout",
     "output_type": "stream",
     "text": [
      "Job Status: job has successfully run\n"
     ]
    }
   ],
   "source": [
    "# Execution settings\n",
    "num_shots = 256\n",
    "\n",
    "job = backend.run(exp_ramsey_circs, \n",
    "                  meas_level=1, \n",
    "                  meas_return='single', \n",
    "                  shots=num_shots)\n",
    "\n",
    "job_monitor(job)"
   ]
  },
  {
   "cell_type": "code",
   "execution_count": 58,
   "metadata": {
    "tags": [
     "uses-hardware"
    ]
   },
   "outputs": [],
   "source": [
    "ramsey_results = job.result(timeout=120)"
   ]
  },
  {
   "cell_type": "code",
   "execution_count": 59,
   "metadata": {
    "tags": [
     "uses-hardware"
    ]
   },
   "outputs": [
    {
     "data": {
      "image/png": "[encoded data removed]",
      "text/plain": [
       "<Figure size 432x288 with 1 Axes>"
      ]
     },
     "metadata": {
      "needs_background": "light"
     },
     "output_type": "display_data"
    }
   ],
   "source": [
    "ramsey_values = []\n",
    "\n",
    "for i in range(len(delay_times_sec)):\n",
    "    iq_data = ramsey_results.get_memory(i)[:,qubit] * scale_factor\n",
    "    ramsey_values.append(sum(map(classify, iq_data)) / num_shots)\n",
    "    \n",
    "plt.scatter(delay_times_sec/us, np.real(ramsey_values), color='black')\n",
    "plt.xlim(0, np.max(delay_times_sec/us))\n",
    "plt.title(\"Ramsey Experiment\", fontsize=15)\n",
    "plt.xlabel('Delay between X90 pulses [$\\mu$s]', fontsize=15)\n",
    "plt.ylabel('Measured Signal [a.u.]', fontsize=15)\n",
    "plt.show()"
   ]
  },
  {
   "cell_type": "markdown",
   "metadata": {},
   "source": [
    "We will fit the data to a sinusoid, and extract the information we are interested in -- namely, $\\Delta f$."
   ]
  },
  {
   "cell_type": "code",
   "execution_count": 60,
   "metadata": {
    "tags": [
     "uses-hardware"
    ]
   },
   "outputs": [
    {
     "data": {
      "image/png": "[encoded data removed]",
      "text/plain": [
       "<Figure size 432x288 with 1 Axes>"
      ]
     },
     "metadata": {
      "needs_background": "light"
     },
     "output_type": "display_data"
    }
   ],
   "source": [
    "fit_params, y_fit = fit_function(delay_times_sec/us, np.real(ramsey_values),\n",
    "                                 lambda x, A, del_f_MHz, C, B: (\n",
    "                                          A * np.cos(2*np.pi*del_f_MHz*x - C) + B\n",
    "                                         ),\n",
    "                                 [5, 1./0.4, 0, 0.25]\n",
    "                                )\n",
    "\n",
    "# Off-resonance component\n",
    "_, del_f_MHz, _, _, = fit_params # freq is MHz since times in us\n",
    "\n",
    "plt.scatter(delay_times_sec/us, np.real(ramsey_values), color='black')\n",
    "plt.plot(delay_times_sec/us, y_fit, color='red', label=f\"df = {del_f_MHz:.2f} MHz\")\n",
    "plt.xlim(0, np.max(delay_times_sec/us))\n",
    "plt.xlabel('Delay between X90 pulses [$\\mu$s]', fontsize=15)\n",
    "plt.ylabel('Measured Signal [a.u.]', fontsize=15)\n",
    "plt.title('Ramsey Experiment', fontsize=15)\n",
    "plt.legend()\n",
    "plt.show()"
   ]
  },
  {
   "cell_type": "markdown",
   "metadata": {},
   "source": [
    "Now that we know `del_f_MHz`, we can update our estimate of the qubit frequency."
   ]
  },
  {
   "cell_type": "code",
   "execution_count": 61,
   "metadata": {
    "tags": [
     "uses-hardware"
    ]
   },
   "outputs": [
    {
     "name": "stdout",
     "output_type": "stream",
     "text": [
      "Our updated qubit frequency is now 4.962274 GHz. It used to be 4.962341 GHz\n"
     ]
    }
   ],
   "source": [
    "precise_qubit_freq = rough_qubit_frequency + (detuning_MHz - del_f_MHz) * MHz # get new freq in Hz\n",
    "print(f\"Our updated qubit frequency is now {round(precise_qubit_freq/GHz, 6)} GHz. \"\n",
    "      f\"It used to be {round(rough_qubit_frequency / GHz, 6)} GHz\")"
   ]
  },
  {
   "cell_type": "markdown",
   "metadata": {},
   "source": [
    "### 4.2 Measuring $T_2$ using Hahn Echoes <a id=\"hahn\"></a>\n",
    "\n",
    "Next, we can measure the coherence time, $T_2$, of our qubit. The pulse sequence used to do this experiment is known as a Hahn echo, a term that comes from the NMR community. A Hahn echo experiment is very similar to the Ramsey experiment above, with an additional $\\pi$ pulse between the two $\\pi/2$ pulses. The $\\pi$ pulse at time $\\tau$ reverses the accumulation of phase, and results in an echo at time $2\\tau$, where we apply the last $\\pi/2$ pulse to do our measurement. \n",
    "\n",
    "The decay time for the Hahn echo experiment gives us the coherence time, $T_2$."
   ]
  },
  {
   "cell_type": "code",
   "execution_count": 62,
   "metadata": {
    "tags": [
     "uses-hardware"
    ]
   },
   "outputs": [],
   "source": [
    "# T2 experiment parameters\n",
    "tau_max_sec = 200 * us\n",
    "tau_step_sec = 4 * us\n",
    "delay_times_sec = np.arange(2 * us, tau_max_sec, tau_step_sec)\n",
    "\n",
    "# We will use the pi_pulse and x90_pulse from previous experiments"
   ]
  },
  {
   "cell_type": "code",
   "execution_count": 63,
   "metadata": {
    "tags": [
     "uses-hardware"
    ]
   },
   "outputs": [],
   "source": [
    "delay = Parameter('delay')\n",
    "with pulse.build(backend=backend, default_alignment='sequential', name=\"T2 delay Experiment\") as t2_schedule:\n",
    "    drive_chan = pulse.drive_channel(qubit)\n",
    "    pulse.set_frequency(precise_qubit_freq, drive_chan)\n",
    "    pulse.call(x90_pulse)\n",
    "    pulse.delay(delay, drive_chan)\n",
    "    pulse.call(pi_pulse)\n",
    "    pulse.delay(delay, drive_chan)\n",
    "    pulse.call(x90_pulse)"
   ]
  },
  {
   "cell_type": "code",
   "execution_count": 64,
   "metadata": {},
   "outputs": [],
   "source": [
    "t2_gate = Gate(\"t2\", 1, [delay])\n",
    "\n",
    "qc_t2 = QuantumCircuit(1, 1)\n",
    "\n",
    "qc_t2.append(t2_gate, [0])\n",
    "qc_t2.measure(0, 0)\n",
    "qc_t2.add_calibration(t2_gate, (0,), t2_schedule, [delay])\n",
    "\n",
    "exp_t2_circs = [qc_t2.assign_parameters({delay: get_dt_from(d)}, inplace=False) for d in delay_times_sec]"
   ]
  },
  {
   "cell_type": "code",
   "execution_count": 65,
   "metadata": {},
   "outputs": [
    {
     "data": {
      "image/png": "[encoded data removed]",
      "text/plain": [
       "<Figure size 936x237.6 with 1 Axes>"
      ]
     },
     "execution_count": 65,
     "metadata": {},
     "output_type": "execute_result"
    }
   ],
   "source": [
    "t2_schedule = schedule(exp_t2_circs[-1], backend)\n",
    "t2_schedule.draw(backend=backend)"
   ]
  },
  {
   "cell_type": "code",
   "execution_count": 66,
   "metadata": {
    "tags": [
     "uses-hardware"
    ]
   },
   "outputs": [
    {
     "name": "stdout",
     "output_type": "stream",
     "text": [
      "Job Status: job has successfully run\n"
     ]
    }
   ],
   "source": [
    "# Execution settings\n",
    "num_shots_per_point = 512\n",
    "\n",
    "job = backend.run(exp_t2_circs,\n",
    "                  meas_level=1,\n",
    "                  meas_return='single',\n",
    "                  shots=num_shots_per_point)\n",
    "\n",
    "job_monitor(job)"
   ]
  },
  {
   "cell_type": "code",
   "execution_count": 67,
   "metadata": {
    "tags": [
     "uses-hardware"
    ]
   },
   "outputs": [],
   "source": [
    "t2_results = job.result(timeout=120)"
   ]
  },
  {
   "cell_type": "code",
   "execution_count": 68,
   "metadata": {
    "tags": [
     "uses-hardware"
    ]
   },
   "outputs": [
    {
     "data": {
      "image/png": "[encoded data removed]",
      "text/plain": [
       "<Figure size 432x288 with 1 Axes>"
      ]
     },
     "metadata": {
      "needs_background": "light"
     },
     "output_type": "display_data"
    }
   ],
   "source": [
    "t2_values = []\n",
    "\n",
    "for i in range(len(delay_times_sec)):\n",
    "    iq_data = t2_results.get_memory(i)[:,qubit] * scale_factor\n",
    "    t2_values.append(sum(map(classify, iq_data)) / num_shots_per_point)\n",
    "\n",
    "plt.scatter(2*delay_times_sec/us, t2_values, color='black')\n",
    "plt.xlabel('Delay between X90 pulse and $\\pi$ pulse [$\\mu$s]', fontsize=15)\n",
    "plt.ylabel('Measured Signal [a.u.]', fontsize=15)\n",
    "plt.title('Hahn Echo Experiment', fontsize=15)\n",
    "plt.show()"
   ]
  },
  {
   "cell_type": "code",
   "execution_count": 69,
   "metadata": {
    "tags": [
     "uses-hardware"
    ]
   },
   "outputs": [
    {
     "name": "stdout",
     "output_type": "stream",
     "text": [
      "\n"
     ]
    },
    {
     "data": {
      "image/png": "[encoded data removed]",
      "text/plain": [
       "<Figure size 432x288 with 1 Axes>"
      ]
     },
     "metadata": {
      "needs_background": "light"
     },
     "output_type": "display_data"
    }
   ],
   "source": [
    "fit_params, y_fit = fit_function(2*delay_times_sec/us, t2_values,\n",
    "             lambda x, A, B, T2: (A * np.exp(-x / T2) + B),\n",
    "             [-3, 0, 100])\n",
    "\n",
    "_, _, T2 = fit_params\n",
    "print()\n",
    "\n",
    "plt.scatter(2*delay_times_sec/us, t2_values, color='black')\n",
    "plt.plot(2*delay_times_sec/us, y_fit, color='red', label=f\"T2 = {T2:.2f} us\")\n",
    "plt.xlim(0, np.max(2*delay_times_sec/us))\n",
    "plt.xlabel('Delay between X90 pulse and $\\pi$ pulse [$\\mu$s]', fontsize=15)\n",
    "plt.ylabel('Measured Signal [a.u.]', fontsize=15)\n",
    "plt.title('Hahn Echo Experiment', fontsize=15)\n",
    "plt.legend()\n",
    "plt.show()"
   ]
  },
  {
   "cell_type": "markdown",
   "metadata": {},
   "source": [
    "## C. Dynamical decoupling <a id=\"DD\"></a>\n",
    "\n",
    "The following technique, commonly known as dynamical decoupling, allows us to cancel different frequencies of noise and is used to extract longer coherence times from qubits."
   ]
  },
  {
   "cell_type": "code",
   "execution_count": 70,
   "metadata": {
    "tags": [
     "uses-hardware"
    ]
   },
   "outputs": [
    {
     "name": "stdout",
     "output_type": "stream",
     "text": [
      "Total time ranges from 2.0 to 354.0 us\n"
     ]
    }
   ],
   "source": [
    "# DD experiment parameters\n",
    "tau_sec_min = 1 * us\n",
    "tau_sec_max = 180 * us\n",
    "tau_step_sec = 4 * us\n",
    "taus_sec = np.arange(tau_sec_min, tau_sec_max, tau_step_sec)\n",
    "\n",
    "num_sequence = 1 # apply 1 sequence\n",
    "print(f\"Total time ranges from {2.*num_sequence*taus_sec[0] / us} to {2.*num_sequence*taus_sec[-1] / us} us\")"
   ]
  },
  {
   "cell_type": "code",
   "execution_count": 71,
   "metadata": {
    "tags": [
     "uses-hardware"
    ]
   },
   "outputs": [],
   "source": [
    "delay = Parameter('delay')\n",
    "with pulse.build(backend=backend, default_alignment='sequential', name=\"T2DD delay Experiment\") as T2DD_schedule:\n",
    "    drive_chan = pulse.drive_channel(qubit)\n",
    "    pulse.set_frequency(precise_qubit_freq, drive_chan)\n",
    "    pulse.call(x90_pulse)\n",
    "    pulse.delay(delay/2, drive_chan)\n",
    "    for loop_counts in range(num_sequence):\n",
    "        pulse.call(pi_pulse)\n",
    "        pulse.delay(delay, drive_chan)\n",
    "        with pulse.phase_offset(np.pi/2, pulse.drive_channel(qubit)):\n",
    "            pulse.call(pi_pulse)\n",
    "        pulse.delay(delay, drive_chan)\n",
    "        pulse.call(pi_pulse)\n",
    "        pulse.delay(delay, drive_chan)\n",
    "        with pulse.phase_offset(np.pi/2, pulse.drive_channel(qubit)):\n",
    "            pulse.call(pi_pulse)\n",
    "        if loop_counts != num_sequence-1:\n",
    "            pulse.delay(delay, drive_chan)\n",
    "    pulse.delay(delay/2, drive_chan)\n",
    "    pulse.call(x90_pulse)"
   ]
  },
  {
   "cell_type": "code",
   "execution_count": 72,
   "metadata": {},
   "outputs": [],
   "source": [
    "T2DD_gate = Gate(\"T2DD\", 1, [delay])\n",
    "\n",
    "qc_T2DD = QuantumCircuit(1, 1)\n",
    "\n",
    "qc_T2DD.append(T2DD_gate, [0])\n",
    "qc_T2DD.measure(0, 0)\n",
    "qc_T2DD.add_calibration(T2DD_gate, (0,), T2DD_schedule, [delay])\n",
    "\n",
    "exp_T2DD_circs = [qc_T2DD.assign_parameters({delay: get_dt_from(d)}, inplace=False) for d in taus_sec]"
   ]
  },
  {
   "cell_type": "code",
   "execution_count": 73,
   "metadata": {},
   "outputs": [
    {
     "data": {
      "image/png": "[encoded data removed]",
      "text/plain": [
       "<Figure size 936x237.6 with 1 Axes>"
      ]
     },
     "execution_count": 73,
     "metadata": {},
     "output_type": "execute_result"
    }
   ],
   "source": [
    "T2DD_schedule = schedule(exp_T2DD_circs[-1], backend)\n",
    "T2DD_schedule.draw(backend=backend)"
   ]
  },
  {
   "cell_type": "code",
   "execution_count": 74,
   "metadata": {
    "tags": [
     "uses-hardware"
    ]
   },
   "outputs": [
    {
     "name": "stdout",
     "output_type": "stream",
     "text": [
      "Job Status: job has successfully run\n"
     ]
    }
   ],
   "source": [
    "num_shots_per_point = 1024\n",
    "\n",
    "job = backend.run(exp_T2DD_circs,\n",
    "                  meas_level=1,\n",
    "                  meas_return='single',\n",
    "                  shots=num_shots_per_point)\n",
    "\n",
    "\n",
    "job_monitor(job)"
   ]
  },
  {
   "cell_type": "code",
   "execution_count": 75,
   "metadata": {
    "tags": [
     "uses-hardware"
    ]
   },
   "outputs": [],
   "source": [
    "T2DD_results = job.result(timeout=120)"
   ]
  },
  {
   "cell_type": "code",
   "execution_count": 76,
   "metadata": {
    "tags": [
     "uses-hardware"
    ]
   },
   "outputs": [
    {
     "data": {
      "image/png": "[encoded data removed]",
      "text/plain": [
       "<Figure size 432x288 with 1 Axes>"
      ]
     },
     "metadata": {
      "needs_background": "light"
     },
     "output_type": "display_data"
    }
   ],
   "source": [
    "times_sec = 4*num_sequence*taus_sec\n",
    "DD_values = []\n",
    "\n",
    "for i in range(len(times_sec)):\n",
    "    iq_data = T2DD_results.get_memory(i)[:,qubit] * scale_factor\n",
    "    DD_values.append(sum(map(classify, iq_data)) / num_shots_per_point)\n",
    "\n",
    "plt.scatter(times_sec/us, DD_values, color='black')\n",
    "plt.xlim(0, np.max(times_sec/us))\n",
    "plt.xlabel('Total time before measurement [$\\mu$s]', fontsize=15)\n",
    "plt.ylabel('Measured Signal [a.u.]', fontsize=15)\n",
    "plt.title('Dynamical Decoupling Experiment', fontsize=15)\n",
    "plt.show()"
   ]
  },
  {
   "cell_type": "code",
   "execution_count": 77,
   "metadata": {
    "tags": [
     "uses-hardware"
    ]
   },
   "outputs": [
    {
     "data": {
      "image/png": "[encoded data removed]",
      "text/plain": [
       "<Figure size 432x288 with 1 Axes>"
      ]
     },
     "metadata": {
      "needs_background": "light"
     },
     "output_type": "display_data"
    }
   ],
   "source": [
    "# Fit the data\n",
    "fit_func = lambda x, A, B, T2DD: (A * np.exp(-x / T2DD) + B)\n",
    "fitparams, conv = curve_fit(fit_func, times_sec/us, DD_values, [3.5, 0.8, 150])\n",
    "\n",
    "_, _, T2DD = fitparams\n",
    "plt.scatter(times_sec/us, DD_values, color='black')\n",
    "plt.plot(times_sec/us, fit_func(times_sec/us, *fitparams), color='red', label=f\"T2DD = {T2DD:.2f} us\")\n",
    "plt.xlim([0, np.max(times_sec/us)])\n",
    "plt.xlabel('Total time before measurement [$\\mu$s]', fontsize=15)\n",
    "plt.ylabel('Measured Signal [a.u.]', fontsize=15)\n",
    "plt.title('Dynamical Decoupling Experiment', fontsize=15)\n",
    "plt.legend()\n",
    "plt.show()"
   ]
  },
  {
   "cell_type": "markdown",
   "metadata": {},
   "source": [
    "## 5. References <a id=\"refs\"></a>"
   ]
  },
  {
   "cell_type": "markdown",
   "metadata": {},
   "source": [
    "1. H. Abraham, I. Y. Akhalwaya, G. Aleksandrowicz, T. Alexander, G. Alexandrowics, E. Arbel, A. Asfaw, C. Azaustre, P. Barkoutsos, G. Barron, L. Bello, Y. Ben-Haim, L. S. Bishop, S. Bosch, D. Bucher, CZ, F. Cabrera, P. Calpin, L. Capelluto, J. Carballo, C.-F. Chen, A. Chen, R. Chen, J. M. Chow, C. Claus, A. W. Cross, A. J. Cross, J. Cruz- Benito, C. Culver, A. D. C ́orcoles-Gonzales, S. Dague, M. Dartiailh, A. R. Davila, D. Ding, E. Dumitrescu, K. Dumon, I. Duran, P. Eendebak, D. Egger, M. Everitt, P. M. Fern ́andez, A. Frisch, A. Fuhrer, J. Gacon, Gadi, B. G. Gago, J. M. Gambetta, L. Garcia, S. Garion, Gawel-Kus, L. Gil, J. Gomez-Mosquera, S. de la Puente Gonz ́alez, D. Green- berg,J.A.Gunnels,I.Haide,I.Hamamura,V.Havlicek,J.Hellmers,L􏰀.Herok,H.Horii, C. Howington, W. Hu, S. Hu, H. Imai, T. Imamichi, R. Iten, T. Itoko, A. Javadi-Abhari, Jessica, K. Johns, N. Kanazawa, A. Karazeev, P. Kassebaum, V. Krishnan, K. Kr- sulich, G. Kus, R. LaRose, R. Lambert, J. Latone, S. Lawrence, P. Liu, P. B. Z. Mac, Y. Maeng, A. Malyshev, J. Marecek, M. Marques, D. Mathews, A. Matsuo, D. T. Mc- Clure, C. McGarry, D. McKay, S. Meesala, A. Mezzacapo, R. Midha, Z. Minev, P. Mu- rali, J. Mu ̈ggenburg, D. Nadlinger, G. Nannicini, P. Nation, Y. Naveh, Nick-Singstock, P. Niroula, H. Norlen, L. J. O’Riordan, S. Oud, D. Padilha, H. Paik, S. Perriello, A. Phan, M. Pistoia, A. Pozas-iKerstjens, V. Prutyanov, J. P ́erez, Quintiii, R. Raymond, R. M.-C. Redondo, M. Reuter, D. M. Rodr ́ıguez, M. Ryu, M. Sandberg, N. Sathaye, B. Schmitt, C. Schnabel, T. L. Scholten, E. Schoute, I. F. Sertage, Y. Shi, A. Silva, Y. Siraichi, S. Sivarajah, J. A. Smolin, M. Soeken, D. Steenken, M. Stypulkoski, H. Takahashi, C. Taylor, P. Taylour, S. Thomas, M. Tillet, M. Tod, E. de la Torre, K. Trabing, M. Treinish, TrishaPe, W. Turner, Y. Vaknin, C. R. Valcarce, F. Varchon, D. Vogt- Lee, C. Vuillot, J. Weaver, R. Wieczorek, J. A. Wildstrom, R. Wille, E. Winston, J. J. Woehr, S. Woerner, R. Woo, C. J. Wood, R. Wood, S. Wood, J. Wootton, D. Yeralin, J. Yu, L. Zdanski, Zoufalc, azulehner, drholmie, fanizzamarco, kanejess, klinvill, merav aharoni, ordmoj, tigerjack, yang.luh, and yotamvakninibm, “Qiskit: An open-source framework for quantum computing,” 2019.\n",
    "2. D. C. McKay, T. Alexander, L. Bello, M. J. Biercuk, L. Bishop, J. Chen, J. M. Chow, A. D. C ́orcoles, D. Egger, S. Filipp, J. Gomez, M. Hush, A. Javadi-Abhari, D. Moreda, P. Nation, B. Paulovicks, E. Winston, C. J. Wood, J. Wootton, and J. M. Gambetta, “Qiskit backend specifications for OpenQASM and OpenPulse experiments,” 2018.\n",
    "\n",
    "**Note:** 'Qiskit Pulse' was formerly known as 'OpenPulse'."
   ]
  },
  {
   "cell_type": "code",
   "execution_count": 78,
   "metadata": {},
   "outputs": [
    {
     "data": {
      "text/html": [
       "<h3>Version Information</h3><table><tr><th>Qiskit Software</th><th>Version</th></tr><tr><td><code>qiskit-terra</code></td><td>0.19.2</td></tr><tr><td><code>qiskit-aer</code></td><td>0.10.3</td></tr><tr><td><code>qiskit-ignis</code></td><td>0.7.0</td></tr><tr><td><code>qiskit-ibmq-provider</code></td><td>0.18.3</td></tr><tr><td><code>qiskit</code></td><td>0.34.2</td></tr><tr><th>System information</th></tr><tr><td>Python version</td><td>3.8.12</td></tr><tr><td>Python compiler</td><td>MSC v.1916 64 bit (AMD64)</td></tr><tr><td>Python build</td><td>default, Oct 12 2021 03:01:40</td></tr><tr><td>OS</td><td>Windows</td></tr><tr><td>CPUs</td><td>4</td></tr><tr><td>Memory (Gb)</td><td>7.837944030761719</td></tr><tr><td colspan='2'>Fri Jun 03 18:20:54 2022 東京 (標準時)</td></tr></table>"
      ],
      "text/plain": [
       "<IPython.core.display.HTML object>"
      ]
     },
     "metadata": {},
     "output_type": "display_data"
    }
   ],
   "source": [
    "import qiskit.tools.jupyter\n",
    "%qiskit_version_table"
   ]
  }
 ],
 "metadata": {
  "kernelspec": {
   "display_name": "Python 3 (ipykernel)",
   "language": "python",
   "name": "python3"
  },
  "language_info": {
   "codemirror_mode": {
    "name": "ipython",
    "version": 3
   },
   "file_extension": ".py",
   "mimetype": "text/x-python",
   "name": "python",
   "nbconvert_exporter": "python",
   "pygments_lexer": "ipython3",
   "version": "3.8.12"
  },
  "widgets": {
   "application/vnd.jupyter.widget-state+json": {
    "state": {
     "010cbc21fc874619a7e41f083b026b74": {
      "model_module": "@jupyter-widgets/base",
      "model_module_version": "1.2.0",
      "model_name": "LayoutModel",
      "state": {
       "overflow_x": "scroll"
      }
     },
     "051f87f3b5fd469e8dce43fbbe081368": {
      "model_module": "@jupyter-widgets/controls",
      "model_module_version": "1.5.0",
      "model_name": "HTMLModel",
      "state": {
       "layout": "IPY_MODEL_42d044fad07247a98e106181d86be5f7",
       "style": "IPY_MODEL_67ca2e12fb964a97a6ea86ab062bbf36",
       "value": "<p style='font-family: IBM Plex Sans, Arial, Helvetica, sans-serif; font-size: 20px; font-weight: medium;'>Circuit Properties</p>"
      }
     },
     "05e06b245c5a4294b59d5d1114fa2713": {
      "model_module": "@jupyter-widgets/base",
      "model_module_version": "1.2.0",
      "model_name": "LayoutModel",
      "state": {
       "overflow_x": "scroll"
      }
     },
     "069d0abcd6b642638a9a5fdadac1851a": {
      "model_module": "@jupyter-widgets/controls",
      "model_module_version": "1.5.0",
      "model_name": "DescriptionStyleModel",
      "state": {
       "description_width": ""
      }
     },
     "0936d78fafb14b4d9d1c29c6fbc6c969": {
      "model_module": "@jupyter-widgets/base",
      "model_module_version": "1.2.0",
      "model_name": "LayoutModel",
      "state": {
       "width": "95px"
      }
     },
     "09806a6701c043d3947c2a3a04a79070": {
      "model_module": "@jupyter-widgets/controls",
      "model_module_version": "1.5.0",
      "model_name": "DescriptionStyleModel",
      "state": {
       "description_width": ""
      }
     },
     "09fa5c49afbf49dfb41945bfd623651a": {
      "model_module": "@jupyter-widgets/base",
      "model_module_version": "1.2.0",
      "model_name": "LayoutModel",
      "state": {
       "margin": "0px 5px 0px 0px",
       "width": "32px"
      }
     },
     "0ea9366a92c04019bd226ae329dd1e4d": {
      "model_module": "@jupyter-widgets/controls",
      "model_module_version": "1.5.0",
      "model_name": "ButtonStyleModel",
      "state": {
       "button_color": "white"
      }
     },
     "0eee018116124ca9bec9d16aeceaa202": {
      "model_module": "@jupyter-widgets/controls",
      "model_module_version": "1.5.0",
      "model_name": "DescriptionStyleModel",
      "state": {
       "description_width": ""
      }
     },
     "1216ae85ed9241e8b7a226e0ed1dbc00": {
      "model_module": "@jupyter-widgets/controls",
      "model_module_version": "1.5.0",
      "model_name": "DescriptionStyleModel",
      "state": {
       "description_width": ""
      }
     },
     "144064804ffb4a339c760e75adb04257": {
      "model_module": "@jupyter-widgets/base",
      "model_module_version": "1.2.0",
      "model_name": "LayoutModel",
      "state": {}
     },
     "14ce99d4a0ef4618813fb49ac923caa3": {
      "model_module": "@jupyter-widgets/controls",
      "model_module_version": "1.5.0",
      "model_name": "DescriptionStyleModel",
      "state": {
       "description_width": ""
      }
     },
     "16ca4f7381f24e07aa99c05c252ecd58": {
      "model_module": "@jupyter-widgets/controls",
      "model_module_version": "1.5.0",
      "model_name": "HTMLModel",
      "state": {
       "layout": "IPY_MODEL_a3c9a330d3524226a51a736771388379",
       "style": "IPY_MODEL_95160c48f4dd4566beb43863afe11f28",
       "value": "616f86d332bb433f8ea544c9"
      }
     },
     "17429aa29e344dd39696b11135fefd2d": {
      "model_module": "@jupyter-widgets/controls",
      "model_module_version": "1.5.0",
      "model_name": "DescriptionStyleModel",
      "state": {
       "description_width": ""
      }
     },
     "18cb6f7dd21a42a19cf92cfcb36878ec": {
      "model_module": "@jupyter-widgets/controls",
      "model_module_version": "1.5.0",
      "model_name": "ButtonModel",
      "state": {
       "icon": "close",
       "layout": "IPY_MODEL_da90bf33f3984ef8a6a193aaeb000ab2",
       "style": "IPY_MODEL_3018d4ee0c714aca8cf8275291362bbb"
      }
     },
     "1ba94c076a304411a719528cb76aa945": {
      "model_module": "@jupyter-widgets/controls",
      "model_module_version": "1.5.0",
      "model_name": "DescriptionStyleModel",
      "state": {
       "description_width": ""
      }
     },
     "1f2692e8efcf422baff6c0d514569eaf": {
      "model_module": "@jupyter-widgets/controls",
      "model_module_version": "1.5.0",
      "model_name": "ButtonStyleModel",
      "state": {
       "button_color": "white"
      }
     },
     "1f8742db052647c6b8ce9034172bf770": {
      "model_module": "@jupyter-widgets/base",
      "model_module_version": "1.2.0",
      "model_name": "LayoutModel",
      "state": {
       "width": "190px"
      }
     },
     "1fea662036ce457e958c80c8ddc79387": {
      "model_module": "@jupyter-widgets/controls",
      "model_module_version": "1.5.0",
      "model_name": "HTMLModel",
      "state": {
       "layout": "IPY_MODEL_2a1f2f70ea774c7784feaa8259eb8498",
       "style": "IPY_MODEL_761190ba5967406a87b24457f8022bb5",
       "value": "-"
      }
     },
     "21d88110c86640628d5096d4518c60b5": {
      "model_module": "@jupyter-widgets/base",
      "model_module_version": "1.2.0",
      "model_name": "LayoutModel",
      "state": {
       "width": "145px"
      }
     },
     "22ff824033f747df880cde5a89e0c660": {
      "model_module": "@jupyter-widgets/controls",
      "model_module_version": "1.5.0",
      "model_name": "HTMLModel",
      "state": {
       "layout": "IPY_MODEL_144064804ffb4a339c760e75adb04257",
       "style": "IPY_MODEL_b7da88be80444349ad42977d793430a4",
       "value": "<h5>Message</h5>"
      }
     },
     "24183e75b5b44e4788aff0c24b527f4e": {
      "model_module": "@jupyter-widgets/controls",
      "model_module_version": "1.5.0",
      "model_name": "DescriptionStyleModel",
      "state": {
       "description_width": ""
      }
     },
     "2592ebfa441745f7928516cc11dfbf08": {
      "model_module": "@jupyter-widgets/controls",
      "model_module_version": "1.5.0",
      "model_name": "HTMLModel",
      "state": {
       "layout": "IPY_MODEL_e25054498393407f84ad95b30266b33c",
       "style": "IPY_MODEL_b7a27bb29fea4854bf21207d12bafd10",
       "value": "job has successfully run"
      }
     },
     "27c94f84e0d24ff9ace004987342d9e5": {
      "model_module": "@jupyter-widgets/controls",
      "model_module_version": "1.5.0",
      "model_name": "DescriptionStyleModel",
      "state": {
       "description_width": ""
      }
     },
     "29f1af10755d46ea95420d9797d70197": {
      "model_module": "@jupyter-widgets/base",
      "model_module_version": "1.2.0",
      "model_name": "LayoutModel",
      "state": {
       "width": "95px"
      }
     },
     "2a02c0875d4f4361ad68677799aeb9cb": {
      "model_module": "@jupyter-widgets/base",
      "model_module_version": "1.2.0",
      "model_name": "LayoutModel",
      "state": {
       "width": "70px"
      }
     },
     "2a1f2f70ea774c7784feaa8259eb8498": {
      "model_module": "@jupyter-widgets/base",
      "model_module_version": "1.2.0",
      "model_name": "LayoutModel",
      "state": {
       "width": "70px"
      }
     },
     "2ace6b7aeb6247f294edb2f0e5d88a33": {
      "model_module": "@jupyter-widgets/controls",
      "model_module_version": "1.5.0",
      "model_name": "ButtonStyleModel",
      "state": {
       "button_color": "white"
      }
     },
     "2ae19b930bf04f72978336e5e111cdfb": {
      "model_module": "@jupyter-widgets/base",
      "model_module_version": "1.2.0",
      "model_name": "LayoutModel",
      "state": {
       "overflow_x": "scroll"
      }
     },
     "2b6feb95a07a4626b881d45532137def": {
      "model_module": "@jupyter-widgets/controls",
      "model_module_version": "1.5.0",
      "model_name": "HBoxModel",
      "state": {
       "children": [
        "IPY_MODEL_3208c831a7314a7eac0c3a3db386fe1d",
        "IPY_MODEL_76e41e0655544dc8834ed087c80c0b00",
        "IPY_MODEL_72a580a97d9b46a3a758b284aec83b70",
        "IPY_MODEL_f51c74c925d44009b0bd1f3825c5d6a8",
        "IPY_MODEL_c80f5f26ba34410d9611ccf9003d03c1",
        "IPY_MODEL_39ad38893919410eb2af3f78c1cc41c2"
       ],
       "layout": "IPY_MODEL_f65bd0fc125b4593bb5f733ec23c8abf"
      }
     },
     "300d0569821e4355b6ef647567501a4b": {
      "model_module": "@jupyter-widgets/controls",
      "model_module_version": "1.5.0",
      "model_name": "ButtonModel",
      "state": {
       "icon": "close",
       "layout": "IPY_MODEL_6dd8f2d3b7d247a58da305a8470d0475",
       "style": "IPY_MODEL_2ace6b7aeb6247f294edb2f0e5d88a33"
      }
     },
     "3018d4ee0c714aca8cf8275291362bbb": {
      "model_module": "@jupyter-widgets/controls",
      "model_module_version": "1.5.0",
      "model_name": "ButtonStyleModel",
      "state": {
       "button_color": "white"
      }
     },
     "314c6fe56db049f8a6337db00b53bd7c": {
      "model_module": "@jupyter-widgets/controls",
      "model_module_version": "1.5.0",
      "model_name": "ButtonModel",
      "state": {
       "icon": "close",
       "layout": "IPY_MODEL_d09373a5b6f24a9d9f529b849e26aa01",
       "style": "IPY_MODEL_518fa6d6fd2d42e9b5744509483b7248"
      }
     },
     "3208c831a7314a7eac0c3a3db386fe1d": {
      "model_module": "@jupyter-widgets/controls",
      "model_module_version": "1.5.0",
      "model_name": "ButtonModel",
      "state": {
       "icon": "close",
       "layout": "IPY_MODEL_f2c2d8c9319d4ef797852c6a541de40c",
       "style": "IPY_MODEL_ae12089b4a3c4e91b2ce5c09d702d6c3"
      }
     },
     "3850b35c1ff9436693ca23df40908dd9": {
      "model_module": "@jupyter-widgets/base",
      "model_module_version": "1.2.0",
      "model_name": "LayoutModel",
      "state": {
       "width": "190px"
      }
     },
     "391bba9c51c74c958c1b1887c5898a0a": {
      "model_module": "@jupyter-widgets/controls",
      "model_module_version": "1.5.0",
      "model_name": "HTMLModel",
      "state": {
       "layout": "IPY_MODEL_b357478e389947bb8d9aaa131ae35ff4",
       "style": "IPY_MODEL_bafb55c2367246d48e916b8e84406883",
       "value": "616f86b132bb4362dca544c7"
      }
     },
     "39ad38893919410eb2af3f78c1cc41c2": {
      "model_module": "@jupyter-widgets/controls",
      "model_module_version": "1.5.0",
      "model_name": "HTMLModel",
      "state": {
       "layout": "IPY_MODEL_05e06b245c5a4294b59d5d1114fa2713",
       "style": "IPY_MODEL_1ba94c076a304411a719528cb76aa945",
       "value": "job has successfully run"
      }
     },
     "39ff963e343146e693fdbd8925664589": {
      "model_module": "@jupyter-widgets/base",
      "model_module_version": "1.2.0",
      "model_name": "LayoutModel",
      "state": {
       "width": "70px"
      }
     },
     "3a98877ab74e46928073d96ac8539d3e": {
      "model_module": "@jupyter-widgets/base",
      "model_module_version": "1.2.0",
      "model_name": "LayoutModel",
      "state": {
       "max_width": "700px",
       "min_width": "700px"
      }
     },
     "3b60bde4a7c64049affaba7dca598ee5": {
      "model_module": "@jupyter-widgets/base",
      "model_module_version": "1.2.0",
      "model_name": "LayoutModel",
      "state": {
       "width": "190px"
      }
     },
     "3c761e40be754dd684097516ff96f4e7": {
      "model_module": "@jupyter-widgets/base",
      "model_module_version": "1.2.0",
      "model_name": "LayoutModel",
      "state": {
       "grid_template_areas": "\n                                       \". . . . right \"\n                                        ",
       "grid_template_columns": "20% 20% 20% 20% 20%",
       "width": "100%"
      }
     },
     "3d09609d157345bd993f6c0b64e930b5": {
      "model_module": "@jupyter-widgets/controls",
      "model_module_version": "1.5.0",
      "model_name": "DescriptionStyleModel",
      "state": {
       "description_width": ""
      }
     },
     "3d98b49911514078b1af962fe77427b6": {
      "model_module": "@jupyter-widgets/controls",
      "model_module_version": "1.5.0",
      "model_name": "DescriptionStyleModel",
      "state": {
       "description_width": ""
      }
     },
     "4020b4f2dffd4616bcad9154471895a9": {
      "model_module": "@jupyter-widgets/controls",
      "model_module_version": "1.5.0",
      "model_name": "HBoxModel",
      "state": {
       "children": [
        "IPY_MODEL_300d0569821e4355b6ef647567501a4b",
        "IPY_MODEL_98c6866d41ef482b8063a55eb698cc49",
        "IPY_MODEL_45c22f60883d4298a8356eefe3dc0b77",
        "IPY_MODEL_8fcab850627d448391102ce3fcef12d6",
        "IPY_MODEL_b94e1b7cba754c9eb95825084b83b1f4",
        "IPY_MODEL_cecdb79f8ec541ad9b2b7a36f840bb67"
       ],
       "layout": "IPY_MODEL_ae55353575a34f829da064f6a17d7f1e"
      }
     },
     "4058ffd94e10416fb197df767b247c19": {
      "model_module": "@jupyter-widgets/controls",
      "model_module_version": "1.5.0",
      "model_name": "HTMLModel",
      "state": {
       "layout": "IPY_MODEL_af7bf98f5bf647b08ec52d6ecbedef8b",
       "style": "IPY_MODEL_9996ade968b546fa860cc2bd9d9da070",
       "value": "ibmq_armonk"
      }
     },
     "424218d571e445c5b7dc9c096c00b24e": {
      "model_module": "@jupyter-widgets/base",
      "model_module_version": "1.2.0",
      "model_name": "LayoutModel",
      "state": {
       "overflow_x": "scroll"
      }
     },
     "424aadb72c6d448f948fc2ba5ac9d377": {
      "model_module": "@jupyter-widgets/base",
      "model_module_version": "1.2.0",
      "model_name": "LayoutModel",
      "state": {
       "overflow_x": "scroll"
      }
     },
     "42d044fad07247a98e106181d86be5f7": {
      "model_module": "@jupyter-widgets/base",
      "model_module_version": "1.2.0",
      "model_name": "LayoutModel",
      "state": {
       "margin": "0px 0px 10px 0px"
      }
     },
     "43c6074a2f514e6b86ea28a96ff7eadc": {
      "model_module": "@jupyter-widgets/controls",
      "model_module_version": "1.5.0",
      "model_name": "DescriptionStyleModel",
      "state": {
       "description_width": ""
      }
     },
     "45abe612df9a4411b60afaf28d5b922a": {
      "model_module": "@jupyter-widgets/base",
      "model_module_version": "1.2.0",
      "model_name": "LayoutModel",
      "state": {
       "width": "95px"
      }
     },
     "45c22f60883d4298a8356eefe3dc0b77": {
      "model_module": "@jupyter-widgets/controls",
      "model_module_version": "1.5.0",
      "model_name": "HTMLModel",
      "state": {
       "layout": "IPY_MODEL_21d88110c86640628d5096d4518c60b5",
       "style": "IPY_MODEL_ac6aa3658c724330b62084f64e0bcc3d",
       "value": "ibmq_armonk"
      }
     },
     "4786dae96504492d954018b16e956491": {
      "model_module": "@jupyter-widgets/controls",
      "model_module_version": "1.5.0",
      "model_name": "HTMLModel",
      "state": {
       "layout": "IPY_MODEL_0936d78fafb14b4d9d1c29c6fbc6c969",
       "style": "IPY_MODEL_b879678df6e042038ef02fb674a72e26",
       "value": "<font style='color:#34BC6E'>DONE</font>"
      }
     },
     "482577d80ca344c19abc91cbc8e4cb97": {
      "model_module": "@jupyter-widgets/base",
      "model_module_version": "1.2.0",
      "model_name": "LayoutModel",
      "state": {
       "max_width": "700px",
       "min_width": "700px"
      }
     },
     "4978c4000491494daf2630250ba06ab5": {
      "model_module": "@jupyter-widgets/base",
      "model_module_version": "1.2.0",
      "model_name": "LayoutModel",
      "state": {
       "width": "190px"
      }
     },
     "4be42cd45f27450289d059c474631ef3": {
      "model_module": "@jupyter-widgets/controls",
      "model_module_version": "1.5.0",
      "model_name": "HTMLModel",
      "state": {
       "layout": "IPY_MODEL_625d71a40e3c42ada0f2d11a69847184",
       "style": "IPY_MODEL_d2d6282b58d5424b9ef42d48b978a057",
       "value": "ibmq_armonk"
      }
     },
     "5039683406b2463fa31bc3812485683b": {
      "model_module": "@jupyter-widgets/controls",
      "model_module_version": "1.5.0",
      "model_name": "GridBoxModel",
      "state": {
       "children": [
        "IPY_MODEL_a79c492536e14b689e529f3832b65e06"
       ],
       "layout": "IPY_MODEL_3c761e40be754dd684097516ff96f4e7"
      }
     },
     "518fa6d6fd2d42e9b5744509483b7248": {
      "model_module": "@jupyter-widgets/controls",
      "model_module_version": "1.5.0",
      "model_name": "ButtonStyleModel",
      "state": {
       "button_color": "white"
      }
     },
     "56608b8921114a8db2c9f57874d2e1ff": {
      "model_module": "@jupyter-widgets/controls",
      "model_module_version": "1.5.0",
      "model_name": "DescriptionStyleModel",
      "state": {
       "description_width": ""
      }
     },
     "589c581c19774cbc9806add20042b500": {
      "model_module": "@jupyter-widgets/controls",
      "model_module_version": "1.5.0",
      "model_name": "ButtonModel",
      "state": {
       "icon": "close",
       "layout": "IPY_MODEL_9ce8575f6d5a4f09aef86eb8d08a8d85",
       "style": "IPY_MODEL_1f2692e8efcf422baff6c0d514569eaf"
      }
     },
     "599c501695e846c6ab351982c9e414ca": {
      "model_module": "@jupyter-widgets/controls",
      "model_module_version": "1.5.0",
      "model_name": "DescriptionStyleModel",
      "state": {
       "description_width": ""
      }
     },
     "59f82b1be005458f9ad56c4cb807ec60": {
      "model_module": "@jupyter-widgets/controls",
      "model_module_version": "1.5.0",
      "model_name": "HTMLModel",
      "state": {
       "layout": "IPY_MODEL_a9532f1ff8e9423a820b99ac77763dd7",
       "style": "IPY_MODEL_a57b1cc607d24ccf84a9445a859b2bff",
       "value": "616f86a5cea6335abc145080"
      }
     },
     "5bea7c19b918457187d99500e852f194": {
      "model_module": "@jupyter-widgets/controls",
      "model_module_version": "1.5.0",
      "model_name": "HTMLModel",
      "state": {
       "layout": "IPY_MODEL_a1990f37b2b048cd834260cb2c316d07",
       "style": "IPY_MODEL_09806a6701c043d3947c2a3a04a79070",
       "value": "-"
      }
     },
     "5d956d6bad134dddb4f3d80da05a0bfa": {
      "model_module": "@jupyter-widgets/controls",
      "model_module_version": "1.5.0",
      "model_name": "ButtonStyleModel",
      "state": {
       "button_color": "white"
      }
     },
     "5f234fcbc8c143eda39f16112fb7f690": {
      "model_module": "@jupyter-widgets/controls",
      "model_module_version": "1.5.0",
      "model_name": "HTMLModel",
      "state": {
       "layout": "IPY_MODEL_66090ffe2d92477bbb73549d39c6a383",
       "style": "IPY_MODEL_fae3aa396f6b4cd5a0edcc06ba275cfe",
       "value": "-"
      }
     },
     "625d71a40e3c42ada0f2d11a69847184": {
      "model_module": "@jupyter-widgets/base",
      "model_module_version": "1.2.0",
      "model_name": "LayoutModel",
      "state": {
       "width": "145px"
      }
     },
     "64d62022325e48279609ef9ea899293e": {
      "model_module": "@jupyter-widgets/controls",
      "model_module_version": "1.5.0",
      "model_name": "HTMLModel",
      "state": {
       "layout": "IPY_MODEL_39ff963e343146e693fdbd8925664589",
       "style": "IPY_MODEL_6b757e70dc0e4a34bf5b91d3f0eba8a8",
       "value": "-"
      }
     },
     "66090ffe2d92477bbb73549d39c6a383": {
      "model_module": "@jupyter-widgets/base",
      "model_module_version": "1.2.0",
      "model_name": "LayoutModel",
      "state": {
       "width": "70px"
      }
     },
     "66b5e0caf4414ba187a2eb77f67b2eea": {
      "model_module": "@jupyter-widgets/controls",
      "model_module_version": "1.5.0",
      "model_name": "DescriptionStyleModel",
      "state": {
       "description_width": ""
      }
     },
     "67ca2e12fb964a97a6ea86ab062bbf36": {
      "model_module": "@jupyter-widgets/controls",
      "model_module_version": "1.5.0",
      "model_name": "DescriptionStyleModel",
      "state": {
       "description_width": ""
      }
     },
     "6b757e70dc0e4a34bf5b91d3f0eba8a8": {
      "model_module": "@jupyter-widgets/controls",
      "model_module_version": "1.5.0",
      "model_name": "DescriptionStyleModel",
      "state": {
       "description_width": ""
      }
     },
     "6dd8f2d3b7d247a58da305a8470d0475": {
      "model_module": "@jupyter-widgets/base",
      "model_module_version": "1.2.0",
      "model_name": "LayoutModel",
      "state": {
       "margin": "0px 5px 0px 0px",
       "width": "32px"
      }
     },
     "6deedca3366b442c9de08510cd827ad4": {
      "model_module": "@jupyter-widgets/controls",
      "model_module_version": "1.5.0",
      "model_name": "DescriptionStyleModel",
      "state": {
       "description_width": ""
      }
     },
     "6e1833f7b39b43138952b13dd3ab7002": {
      "model_module": "@jupyter-widgets/controls",
      "model_module_version": "1.5.0",
      "model_name": "DescriptionStyleModel",
      "state": {
       "description_width": ""
      }
     },
     "706f7909f25b41beb12f30d94b2ebc8c": {
      "model_module": "@jupyter-widgets/controls",
      "model_module_version": "1.5.0",
      "model_name": "DescriptionStyleModel",
      "state": {
       "description_width": ""
      }
     },
     "71f4fffd20194bcc9c4785d2fda9bab8": {
      "model_module": "@jupyter-widgets/base",
      "model_module_version": "1.2.0",
      "model_name": "LayoutModel",
      "state": {
       "width": "95px"
      }
     },
     "72a580a97d9b46a3a758b284aec83b70": {
      "model_module": "@jupyter-widgets/controls",
      "model_module_version": "1.5.0",
      "model_name": "HTMLModel",
      "state": {
       "layout": "IPY_MODEL_d9070eb5a01244679290adfca40d95a0",
       "style": "IPY_MODEL_27c94f84e0d24ff9ace004987342d9e5",
       "value": "ibmq_armonk"
      }
     },
     "761190ba5967406a87b24457f8022bb5": {
      "model_module": "@jupyter-widgets/controls",
      "model_module_version": "1.5.0",
      "model_name": "DescriptionStyleModel",
      "state": {
       "description_width": ""
      }
     },
     "764d1bd4a10d433f9d398d180b21b1e2": {
      "model_module": "@jupyter-widgets/controls",
      "model_module_version": "1.5.0",
      "model_name": "DescriptionStyleModel",
      "state": {
       "description_width": ""
      }
     },
     "76e41e0655544dc8834ed087c80c0b00": {
      "model_module": "@jupyter-widgets/controls",
      "model_module_version": "1.5.0",
      "model_name": "HTMLModel",
      "state": {
       "layout": "IPY_MODEL_e6ece144aa324b2588ea6b088b6cd686",
       "style": "IPY_MODEL_66b5e0caf4414ba187a2eb77f67b2eea",
       "value": "616f861378399cf9ef503e97"
      }
     },
     "76fecb727f2e4250875336ea543c79ce": {
      "model_module": "@jupyter-widgets/controls",
      "model_module_version": "1.5.0",
      "model_name": "HBoxModel",
      "state": {
       "children": [
        "IPY_MODEL_8ba368f95af34cd0bb4c32f82125a526",
        "IPY_MODEL_bc49b34a09d448f79e2bd1c51197cf25",
        "IPY_MODEL_9d2ef47874944455ad678909d6ff8eea",
        "IPY_MODEL_95b8be82a96f44d2b4747ef9b1f3bf52",
        "IPY_MODEL_64d62022325e48279609ef9ea899293e",
        "IPY_MODEL_f77096000de14cf6a278eb00d1d7b1af"
       ],
       "layout": "IPY_MODEL_f8456c22a978418e8f31a58131e41a91"
      }
     },
     "7d03db039a094c22bf306dae51780e42": {
      "model_module": "@jupyter-widgets/controls",
      "model_module_version": "1.5.0",
      "model_name": "HTMLModel",
      "state": {
       "layout": "IPY_MODEL_c3cb5e4f20a64f978d5c14fe1c77e516",
       "style": "IPY_MODEL_599c501695e846c6ab351982c9e414ca",
       "value": "<h5>Queue</h5>"
      }
     },
     "7ddb1f12d2c14b9595dfa05578700982": {
      "model_module": "@jupyter-widgets/base",
      "model_module_version": "1.2.0",
      "model_name": "LayoutModel",
      "state": {
       "overflow_x": "scroll"
      }
     },
     "7e60de39892d45d19965fa17b6ef7bd7": {
      "model_module": "@jupyter-widgets/controls",
      "model_module_version": "1.5.0",
      "model_name": "HTMLModel",
      "state": {
       "layout": "IPY_MODEL_2a02c0875d4f4361ad68677799aeb9cb",
       "style": "IPY_MODEL_80aa9d3989b947cd86abfdf82d5876bb",
       "value": "-"
      }
     },
     "7f048e988bb5439d85cbccfed321d648": {
      "model_module": "@jupyter-widgets/controls",
      "model_module_version": "1.5.0",
      "model_name": "HTMLModel",
      "state": {
       "layout": "IPY_MODEL_f3d590b3c74e489f82b8da634fc9482c",
       "style": "IPY_MODEL_98c8cc1c328d481899ffd649c68e1239",
       "value": "<font style='color:#34BC6E'>DONE</font>"
      }
     },
     "80aa9d3989b947cd86abfdf82d5876bb": {
      "model_module": "@jupyter-widgets/controls",
      "model_module_version": "1.5.0",
      "model_name": "DescriptionStyleModel",
      "state": {
       "description_width": ""
      }
     },
     "81bb774e45d24553a90519c95d136858": {
      "model_module": "@jupyter-widgets/base",
      "model_module_version": "1.2.0",
      "model_name": "LayoutModel",
      "state": {
       "max_width": "700px",
       "min_width": "700px"
      }
     },
     "88130a6434cf4381ad8eedec2b6975cb": {
      "model_module": "@jupyter-widgets/controls",
      "model_module_version": "1.5.0",
      "model_name": "HTMLModel",
      "state": {
       "layout": "IPY_MODEL_3850b35c1ff9436693ca23df40908dd9",
       "style": "IPY_MODEL_cc653990023b412088b02177b445e1a0",
       "value": "<h5>Job ID</h5>"
      }
     },
     "8ae581f85e99456199fde2d763e23644": {
      "model_module": "@jupyter-widgets/controls",
      "model_module_version": "1.5.0",
      "model_name": "HTMLModel",
      "state": {
       "layout": "IPY_MODEL_424218d571e445c5b7dc9c096c00b24e",
       "style": "IPY_MODEL_a65f979e84064e21a4b7d7527662bc44",
       "value": "job has successfully run"
      }
     },
     "8b15c9e24c3f4e88ba650f417a7e9655": {
      "model_module": "@jupyter-widgets/controls",
      "model_module_version": "1.5.0",
      "model_name": "HTMLModel",
      "state": {
       "layout": "IPY_MODEL_29f1af10755d46ea95420d9797d70197",
       "style": "IPY_MODEL_d23b57a559a54fddb6d680dd6bde2f21",
       "value": "<h5>Status</h5>"
      }
     },
     "8b48573a54b74331aab50676ec5b03a7": {
      "model_module": "@jupyter-widgets/controls",
      "model_module_version": "1.5.0",
      "model_name": "HTMLModel",
      "state": {
       "layout": "IPY_MODEL_fe23a4f506754d30831a54e8ae622e69",
       "style": "IPY_MODEL_b8f3e8ecda1246658c703e397d6b779a",
       "value": "ibmq_armonk"
      }
     },
     "8ba368f95af34cd0bb4c32f82125a526": {
      "model_module": "@jupyter-widgets/controls",
      "model_module_version": "1.5.0",
      "model_name": "ButtonModel",
      "state": {
       "icon": "close",
       "layout": "IPY_MODEL_d0626dd18f58405ab01bf64e609f47c4",
       "style": "IPY_MODEL_0ea9366a92c04019bd226ae329dd1e4d"
      }
     },
     "8c5f415e0179455ba4dac04d2a2fc311": {
      "model_module": "@jupyter-widgets/controls",
      "model_module_version": "1.5.0",
      "model_name": "HTMLModel",
      "state": {
       "layout": "IPY_MODEL_71f4fffd20194bcc9c4785d2fda9bab8",
       "style": "IPY_MODEL_24183e75b5b44e4788aff0c24b527f4e",
       "value": "<font style='color:#34BC6E'>DONE</font>"
      }
     },
     "8d83fdf87b7640e9be7cafc20d8b0ff1": {
      "model_module": "@jupyter-widgets/base",
      "model_module_version": "1.2.0",
      "model_name": "LayoutModel",
      "state": {
       "width": "145px"
      }
     },
     "8d8844106bc2477f8f4bb5088b49f06b": {
      "model_module": "@jupyter-widgets/controls",
      "model_module_version": "1.5.0",
      "model_name": "HBoxModel",
      "state": {
       "children": [
        "IPY_MODEL_314c6fe56db049f8a6337db00b53bd7c",
        "IPY_MODEL_391bba9c51c74c958c1b1887c5898a0a",
        "IPY_MODEL_8b48573a54b74331aab50676ec5b03a7",
        "IPY_MODEL_8f4ed0833bfc4b1c96dc842e65733c78",
        "IPY_MODEL_1fea662036ce457e958c80c8ddc79387",
        "IPY_MODEL_e07569de6b8f47a09335c1fe792fff27"
       ],
       "layout": "IPY_MODEL_81bb774e45d24553a90519c95d136858"
      }
     },
     "8f4ed0833bfc4b1c96dc842e65733c78": {
      "model_module": "@jupyter-widgets/controls",
      "model_module_version": "1.5.0",
      "model_name": "HTMLModel",
      "state": {
       "layout": "IPY_MODEL_af2f0e1234f349fa89bdab9840ca4982",
       "style": "IPY_MODEL_8fd872a1096149679fb42bf973e8f656",
       "value": "<font style='color:#34BC6E'>DONE</font>"
      }
     },
     "8fcab850627d448391102ce3fcef12d6": {
      "model_module": "@jupyter-widgets/controls",
      "model_module_version": "1.5.0",
      "model_name": "HTMLModel",
      "state": {
       "layout": "IPY_MODEL_e6132592382548cc9c094c29dcc7619a",
       "style": "IPY_MODEL_6e1833f7b39b43138952b13dd3ab7002",
       "value": "<font style='color:#34BC6E'>DONE</font>"
      }
     },
     "8fd872a1096149679fb42bf973e8f656": {
      "model_module": "@jupyter-widgets/controls",
      "model_module_version": "1.5.0",
      "model_name": "DescriptionStyleModel",
      "state": {
       "description_width": ""
      }
     },
     "90efa443250842178f27431af1379cf9": {
      "model_module": "@jupyter-widgets/base",
      "model_module_version": "1.2.0",
      "model_name": "LayoutModel",
      "state": {
       "margin": "0px 0px 0px 37px",
       "width": "600px"
      }
     },
     "929af8f1075c4de9a3df93e8667b06da": {
      "model_module": "@jupyter-widgets/base",
      "model_module_version": "1.2.0",
      "model_name": "LayoutModel",
      "state": {
       "width": "145px"
      }
     },
     "95160c48f4dd4566beb43863afe11f28": {
      "model_module": "@jupyter-widgets/controls",
      "model_module_version": "1.5.0",
      "model_name": "DescriptionStyleModel",
      "state": {
       "description_width": ""
      }
     },
     "95b8be82a96f44d2b4747ef9b1f3bf52": {
      "model_module": "@jupyter-widgets/controls",
      "model_module_version": "1.5.0",
      "model_name": "HTMLModel",
      "state": {
       "layout": "IPY_MODEL_45abe612df9a4411b60afaf28d5b922a",
       "style": "IPY_MODEL_706f7909f25b41beb12f30d94b2ebc8c",
       "value": "<font style='color:#34BC6E'>DONE</font>"
      }
     },
     "9803b316accc4c3ca4e1039ad0464f62": {
      "model_module": "@jupyter-widgets/base",
      "model_module_version": "1.2.0",
      "model_name": "LayoutModel",
      "state": {
       "width": "70px"
      }
     },
     "98b663f7bb674bc6bbdc0ae99ae4d1b4": {
      "model_module": "@jupyter-widgets/controls",
      "model_module_version": "1.5.0",
      "model_name": "HTMLModel",
      "state": {
       "layout": "IPY_MODEL_bbcd144fec5240a8b44b906cd2a148c2",
       "style": "IPY_MODEL_764d1bd4a10d433f9d398d180b21b1e2",
       "value": "ibmq_armonk"
      }
     },
     "98c6866d41ef482b8063a55eb698cc49": {
      "model_module": "@jupyter-widgets/controls",
      "model_module_version": "1.5.0",
      "model_name": "HTMLModel",
      "state": {
       "layout": "IPY_MODEL_1f8742db052647c6b8ce9034172bf770",
       "style": "IPY_MODEL_14ce99d4a0ef4618813fb49ac923caa3",
       "value": "616f86f232bb43b14ba544cb"
      }
     },
     "98c8cc1c328d481899ffd649c68e1239": {
      "model_module": "@jupyter-widgets/controls",
      "model_module_version": "1.5.0",
      "model_name": "DescriptionStyleModel",
      "state": {
       "description_width": ""
      }
     },
     "9996ade968b546fa860cc2bd9d9da070": {
      "model_module": "@jupyter-widgets/controls",
      "model_module_version": "1.5.0",
      "model_name": "DescriptionStyleModel",
      "state": {
       "description_width": ""
      }
     },
     "9ce8575f6d5a4f09aef86eb8d08a8d85": {
      "model_module": "@jupyter-widgets/base",
      "model_module_version": "1.2.0",
      "model_name": "LayoutModel",
      "state": {
       "margin": "0px 5px 0px 0px",
       "width": "32px"
      }
     },
     "9d1100e3918542d2be9042e5d7e34a7f": {
      "model_module": "@jupyter-widgets/controls",
      "model_module_version": "1.5.0",
      "model_name": "HBoxModel",
      "state": {
       "children": [
        "IPY_MODEL_88130a6434cf4381ad8eedec2b6975cb",
        "IPY_MODEL_d9ab0d53827b423bb1b2551bfa56783d",
        "IPY_MODEL_8b15c9e24c3f4e88ba650f417a7e9655",
        "IPY_MODEL_7d03db039a094c22bf306dae51780e42",
        "IPY_MODEL_22ff824033f747df880cde5a89e0c660"
       ],
       "layout": "IPY_MODEL_90efa443250842178f27431af1379cf9"
      }
     },
     "9d2ef47874944455ad678909d6ff8eea": {
      "model_module": "@jupyter-widgets/controls",
      "model_module_version": "1.5.0",
      "model_name": "HTMLModel",
      "state": {
       "layout": "IPY_MODEL_8d83fdf87b7640e9be7cafc20d8b0ff1",
       "style": "IPY_MODEL_6deedca3366b442c9de08510cd827ad4",
       "value": "ibmq_armonk"
      }
     },
     "9dc26725bcf748a09093f5c9694b4229": {
      "model_module": "@jupyter-widgets/base",
      "model_module_version": "1.2.0",
      "model_name": "LayoutModel",
      "state": {
       "width": "95px"
      }
     },
     "a1990f37b2b048cd834260cb2c316d07": {
      "model_module": "@jupyter-widgets/base",
      "model_module_version": "1.2.0",
      "model_name": "LayoutModel",
      "state": {
       "width": "70px"
      }
     },
     "a3c9a330d3524226a51a736771388379": {
      "model_module": "@jupyter-widgets/base",
      "model_module_version": "1.2.0",
      "model_name": "LayoutModel",
      "state": {
       "width": "190px"
      }
     },
     "a57b1cc607d24ccf84a9445a859b2bff": {
      "model_module": "@jupyter-widgets/controls",
      "model_module_version": "1.5.0",
      "model_name": "DescriptionStyleModel",
      "state": {
       "description_width": ""
      }
     },
     "a5c708def95e4ba0bbe985432b6ff714": {
      "model_module": "@jupyter-widgets/controls",
      "model_module_version": "1.5.0",
      "model_name": "HTMLModel",
      "state": {
       "layout": "IPY_MODEL_424aadb72c6d448f948fc2ba5ac9d377",
       "style": "IPY_MODEL_43c6074a2f514e6b86ea28a96ff7eadc",
       "value": "job has successfully run"
      }
     },
     "a65f979e84064e21a4b7d7527662bc44": {
      "model_module": "@jupyter-widgets/controls",
      "model_module_version": "1.5.0",
      "model_name": "DescriptionStyleModel",
      "state": {
       "description_width": ""
      }
     },
     "a6c3b00333524ad687b5b616d33bfeba": {
      "model_module": "@jupyter-widgets/controls",
      "model_module_version": "1.5.0",
      "model_name": "ButtonModel",
      "state": {
       "icon": "close",
       "layout": "IPY_MODEL_09fa5c49afbf49dfb41945bfd623651a",
       "style": "IPY_MODEL_5d956d6bad134dddb4f3d80da05a0bfa"
      }
     },
     "a79c492536e14b689e529f3832b65e06": {
      "model_module": "@jupyter-widgets/controls",
      "model_module_version": "1.5.0",
      "model_name": "ButtonModel",
      "state": {
       "button_style": "primary",
       "description": "Clear",
       "layout": "IPY_MODEL_fa829920c2364a619bf135c2bd47b9b3",
       "style": "IPY_MODEL_c1b20d979a804454ab40fc02923732b6"
      }
     },
     "a9532f1ff8e9423a820b99ac77763dd7": {
      "model_module": "@jupyter-widgets/base",
      "model_module_version": "1.2.0",
      "model_name": "LayoutModel",
      "state": {
       "width": "190px"
      }
     },
     "ac396a89268e4e42b514f99fd0220184": {
      "model_module": "@jupyter-widgets/controls",
      "model_module_version": "1.5.0",
      "model_name": "HBoxModel",
      "state": {
       "children": [
        "IPY_MODEL_589c581c19774cbc9806add20042b500",
        "IPY_MODEL_16ca4f7381f24e07aa99c05c252ecd58",
        "IPY_MODEL_98b663f7bb674bc6bbdc0ae99ae4d1b4",
        "IPY_MODEL_8c5f415e0179455ba4dac04d2a2fc311",
        "IPY_MODEL_7e60de39892d45d19965fa17b6ef7bd7",
        "IPY_MODEL_a5c708def95e4ba0bbe985432b6ff714"
       ],
       "layout": "IPY_MODEL_482577d80ca344c19abc91cbc8e4cb97"
      }
     },
     "ac6aa3658c724330b62084f64e0bcc3d": {
      "model_module": "@jupyter-widgets/controls",
      "model_module_version": "1.5.0",
      "model_name": "DescriptionStyleModel",
      "state": {
       "description_width": ""
      }
     },
     "ae12089b4a3c4e91b2ce5c09d702d6c3": {
      "model_module": "@jupyter-widgets/controls",
      "model_module_version": "1.5.0",
      "model_name": "ButtonStyleModel",
      "state": {
       "button_color": "white"
      }
     },
     "ae55353575a34f829da064f6a17d7f1e": {
      "model_module": "@jupyter-widgets/base",
      "model_module_version": "1.2.0",
      "model_name": "LayoutModel",
      "state": {
       "max_width": "700px",
       "min_width": "700px"
      }
     },
     "af2f0e1234f349fa89bdab9840ca4982": {
      "model_module": "@jupyter-widgets/base",
      "model_module_version": "1.2.0",
      "model_name": "LayoutModel",
      "state": {
       "width": "95px"
      }
     },
     "af7bf98f5bf647b08ec52d6ecbedef8b": {
      "model_module": "@jupyter-widgets/base",
      "model_module_version": "1.2.0",
      "model_name": "LayoutModel",
      "state": {
       "width": "145px"
      }
     },
     "b357478e389947bb8d9aaa131ae35ff4": {
      "model_module": "@jupyter-widgets/base",
      "model_module_version": "1.2.0",
      "model_name": "LayoutModel",
      "state": {
       "width": "190px"
      }
     },
     "b7a27bb29fea4854bf21207d12bafd10": {
      "model_module": "@jupyter-widgets/controls",
      "model_module_version": "1.5.0",
      "model_name": "DescriptionStyleModel",
      "state": {
       "description_width": ""
      }
     },
     "b7da88be80444349ad42977d793430a4": {
      "model_module": "@jupyter-widgets/controls",
      "model_module_version": "1.5.0",
      "model_name": "DescriptionStyleModel",
      "state": {
       "description_width": ""
      }
     },
     "b879678df6e042038ef02fb674a72e26": {
      "model_module": "@jupyter-widgets/controls",
      "model_module_version": "1.5.0",
      "model_name": "DescriptionStyleModel",
      "state": {
       "description_width": ""
      }
     },
     "b8f3e8ecda1246658c703e397d6b779a": {
      "model_module": "@jupyter-widgets/controls",
      "model_module_version": "1.5.0",
      "model_name": "DescriptionStyleModel",
      "state": {
       "description_width": ""
      }
     },
     "b94e1b7cba754c9eb95825084b83b1f4": {
      "model_module": "@jupyter-widgets/controls",
      "model_module_version": "1.5.0",
      "model_name": "HTMLModel",
      "state": {
       "layout": "IPY_MODEL_fc5e99e0e69c413a9c51b3146bca6624",
       "style": "IPY_MODEL_0eee018116124ca9bec9d16aeceaa202",
       "value": "-"
      }
     },
     "ba0c3baf6e114ae4a0b85336ad2ff8a8": {
      "model_module": "@jupyter-widgets/controls",
      "model_module_version": "1.5.0",
      "model_name": "HBoxModel",
      "state": {
       "children": [
        "IPY_MODEL_18cb6f7dd21a42a19cf92cfcb36878ec",
        "IPY_MODEL_59f82b1be005458f9ad56c4cb807ec60",
        "IPY_MODEL_4be42cd45f27450289d059c474631ef3",
        "IPY_MODEL_7f048e988bb5439d85cbccfed321d648",
        "IPY_MODEL_5f234fcbc8c143eda39f16112fb7f690",
        "IPY_MODEL_8ae581f85e99456199fde2d763e23644"
       ],
       "layout": "IPY_MODEL_ced98195249b44b5a4a984abbb69ebc0"
      }
     },
     "bafb55c2367246d48e916b8e84406883": {
      "model_module": "@jupyter-widgets/controls",
      "model_module_version": "1.5.0",
      "model_name": "DescriptionStyleModel",
      "state": {
       "description_width": ""
      }
     },
     "bbcd144fec5240a8b44b906cd2a148c2": {
      "model_module": "@jupyter-widgets/base",
      "model_module_version": "1.2.0",
      "model_name": "LayoutModel",
      "state": {
       "width": "145px"
      }
     },
     "bc49b34a09d448f79e2bd1c51197cf25": {
      "model_module": "@jupyter-widgets/controls",
      "model_module_version": "1.5.0",
      "model_name": "HTMLModel",
      "state": {
       "layout": "IPY_MODEL_4978c4000491494daf2630250ba06ab5",
       "style": "IPY_MODEL_17429aa29e344dd39696b11135fefd2d",
       "value": "616f8719ae53337a09804f44"
      }
     },
     "c04c7ecb96c64c2d993677e22b2d974b": {
      "model_module": "@jupyter-widgets/controls",
      "model_module_version": "1.5.0",
      "model_name": "DescriptionStyleModel",
      "state": {
       "description_width": ""
      }
     },
     "c1b20d979a804454ab40fc02923732b6": {
      "model_module": "@jupyter-widgets/controls",
      "model_module_version": "1.5.0",
      "model_name": "ButtonStyleModel",
      "state": {}
     },
     "c3cb5e4f20a64f978d5c14fe1c77e516": {
      "model_module": "@jupyter-widgets/base",
      "model_module_version": "1.2.0",
      "model_name": "LayoutModel",
      "state": {
       "width": "70px"
      }
     },
     "c80f5f26ba34410d9611ccf9003d03c1": {
      "model_module": "@jupyter-widgets/controls",
      "model_module_version": "1.5.0",
      "model_name": "HTMLModel",
      "state": {
       "layout": "IPY_MODEL_9803b316accc4c3ca4e1039ad0464f62",
       "style": "IPY_MODEL_069d0abcd6b642638a9a5fdadac1851a",
       "value": "-"
      }
     },
     "cb8290c31e5843bcb2a79691e7e8d68e": {
      "model_module": "@jupyter-widgets/controls",
      "model_module_version": "1.5.0",
      "model_name": "HTMLModel",
      "state": {
       "layout": "IPY_MODEL_3b60bde4a7c64049affaba7dca598ee5",
       "style": "IPY_MODEL_56608b8921114a8db2c9f57874d2e1ff",
       "value": "616f864fcea6331dcf14507d"
      }
     },
     "cc653990023b412088b02177b445e1a0": {
      "model_module": "@jupyter-widgets/controls",
      "model_module_version": "1.5.0",
      "model_name": "DescriptionStyleModel",
      "state": {
       "description_width": ""
      }
     },
     "cecdb79f8ec541ad9b2b7a36f840bb67": {
      "model_module": "@jupyter-widgets/controls",
      "model_module_version": "1.5.0",
      "model_name": "HTMLModel",
      "state": {
       "layout": "IPY_MODEL_2ae19b930bf04f72978336e5e111cdfb",
       "style": "IPY_MODEL_e4a667d6882441b0b93f003d15ea53f2",
       "value": "job has successfully run"
      }
     },
     "ced98195249b44b5a4a984abbb69ebc0": {
      "model_module": "@jupyter-widgets/base",
      "model_module_version": "1.2.0",
      "model_name": "LayoutModel",
      "state": {
       "max_width": "700px",
       "min_width": "700px"
      }
     },
     "d0626dd18f58405ab01bf64e609f47c4": {
      "model_module": "@jupyter-widgets/base",
      "model_module_version": "1.2.0",
      "model_name": "LayoutModel",
      "state": {
       "margin": "0px 5px 0px 0px",
       "width": "32px"
      }
     },
     "d09373a5b6f24a9d9f529b849e26aa01": {
      "model_module": "@jupyter-widgets/base",
      "model_module_version": "1.2.0",
      "model_name": "LayoutModel",
      "state": {
       "margin": "0px 5px 0px 0px",
       "width": "32px"
      }
     },
     "d23b57a559a54fddb6d680dd6bde2f21": {
      "model_module": "@jupyter-widgets/controls",
      "model_module_version": "1.5.0",
      "model_name": "DescriptionStyleModel",
      "state": {
       "description_width": ""
      }
     },
     "d2d6282b58d5424b9ef42d48b978a057": {
      "model_module": "@jupyter-widgets/controls",
      "model_module_version": "1.5.0",
      "model_name": "DescriptionStyleModel",
      "state": {
       "description_width": ""
      }
     },
     "d9070eb5a01244679290adfca40d95a0": {
      "model_module": "@jupyter-widgets/base",
      "model_module_version": "1.2.0",
      "model_name": "LayoutModel",
      "state": {
       "width": "145px"
      }
     },
     "d9ab0d53827b423bb1b2551bfa56783d": {
      "model_module": "@jupyter-widgets/controls",
      "model_module_version": "1.5.0",
      "model_name": "HTMLModel",
      "state": {
       "layout": "IPY_MODEL_929af8f1075c4de9a3df93e8667b06da",
       "style": "IPY_MODEL_1216ae85ed9241e8b7a226e0ed1dbc00",
       "value": "<h5>Backend</h5>"
      }
     },
     "da90bf33f3984ef8a6a193aaeb000ab2": {
      "model_module": "@jupyter-widgets/base",
      "model_module_version": "1.2.0",
      "model_name": "LayoutModel",
      "state": {
       "margin": "0px 5px 0px 0px",
       "width": "32px"
      }
     },
     "e07569de6b8f47a09335c1fe792fff27": {
      "model_module": "@jupyter-widgets/controls",
      "model_module_version": "1.5.0",
      "model_name": "HTMLModel",
      "state": {
       "layout": "IPY_MODEL_010cbc21fc874619a7e41f083b026b74",
       "style": "IPY_MODEL_c04c7ecb96c64c2d993677e22b2d974b",
       "value": "job has successfully run"
      }
     },
     "e25054498393407f84ad95b30266b33c": {
      "model_module": "@jupyter-widgets/base",
      "model_module_version": "1.2.0",
      "model_name": "LayoutModel",
      "state": {
       "overflow_x": "scroll"
      }
     },
     "e4a667d6882441b0b93f003d15ea53f2": {
      "model_module": "@jupyter-widgets/controls",
      "model_module_version": "1.5.0",
      "model_name": "DescriptionStyleModel",
      "state": {
       "description_width": ""
      }
     },
     "e53776dde33448748a82b68c10c36177": {
      "model_module": "@jupyter-widgets/controls",
      "model_module_version": "1.5.0",
      "model_name": "HBoxModel",
      "state": {
       "children": [
        "IPY_MODEL_a6c3b00333524ad687b5b616d33bfeba",
        "IPY_MODEL_cb8290c31e5843bcb2a79691e7e8d68e",
        "IPY_MODEL_4058ffd94e10416fb197df767b247c19",
        "IPY_MODEL_4786dae96504492d954018b16e956491",
        "IPY_MODEL_5bea7c19b918457187d99500e852f194",
        "IPY_MODEL_2592ebfa441745f7928516cc11dfbf08"
       ],
       "layout": "IPY_MODEL_3a98877ab74e46928073d96ac8539d3e"
      }
     },
     "e6132592382548cc9c094c29dcc7619a": {
      "model_module": "@jupyter-widgets/base",
      "model_module_version": "1.2.0",
      "model_name": "LayoutModel",
      "state": {
       "width": "95px"
      }
     },
     "e6ece144aa324b2588ea6b088b6cd686": {
      "model_module": "@jupyter-widgets/base",
      "model_module_version": "1.2.0",
      "model_name": "LayoutModel",
      "state": {
       "width": "190px"
      }
     },
     "f2c2d8c9319d4ef797852c6a541de40c": {
      "model_module": "@jupyter-widgets/base",
      "model_module_version": "1.2.0",
      "model_name": "LayoutModel",
      "state": {
       "margin": "0px 5px 0px 0px",
       "width": "32px"
      }
     },
     "f3d590b3c74e489f82b8da634fc9482c": {
      "model_module": "@jupyter-widgets/base",
      "model_module_version": "1.2.0",
      "model_name": "LayoutModel",
      "state": {
       "width": "95px"
      }
     },
     "f51c74c925d44009b0bd1f3825c5d6a8": {
      "model_module": "@jupyter-widgets/controls",
      "model_module_version": "1.5.0",
      "model_name": "HTMLModel",
      "state": {
       "layout": "IPY_MODEL_9dc26725bcf748a09093f5c9694b4229",
       "style": "IPY_MODEL_3d98b49911514078b1af962fe77427b6",
       "value": "<font style='color:#34BC6E'>DONE</font>"
      }
     },
     "f65bd0fc125b4593bb5f733ec23c8abf": {
      "model_module": "@jupyter-widgets/base",
      "model_module_version": "1.2.0",
      "model_name": "LayoutModel",
      "state": {
       "max_width": "700px",
       "min_width": "700px"
      }
     },
     "f77096000de14cf6a278eb00d1d7b1af": {
      "model_module": "@jupyter-widgets/controls",
      "model_module_version": "1.5.0",
      "model_name": "HTMLModel",
      "state": {
       "layout": "IPY_MODEL_7ddb1f12d2c14b9595dfa05578700982",
       "style": "IPY_MODEL_3d09609d157345bd993f6c0b64e930b5",
       "value": "job has successfully run"
      }
     },
     "f8456c22a978418e8f31a58131e41a91": {
      "model_module": "@jupyter-widgets/base",
      "model_module_version": "1.2.0",
      "model_name": "LayoutModel",
      "state": {
       "max_width": "700px",
       "min_width": "700px"
      }
     },
     "fa829920c2364a619bf135c2bd47b9b3": {
      "model_module": "@jupyter-widgets/base",
      "model_module_version": "1.2.0",
      "model_name": "LayoutModel",
      "state": {
       "grid_area": "right",
       "padding": "0px 0px 0px 0px",
       "width": "70px"
      }
     },
     "fae3aa396f6b4cd5a0edcc06ba275cfe": {
      "model_module": "@jupyter-widgets/controls",
      "model_module_version": "1.5.0",
      "model_name": "DescriptionStyleModel",
      "state": {
       "description_width": ""
      }
     },
     "fc5e99e0e69c413a9c51b3146bca6624": {
      "model_module": "@jupyter-widgets/base",
      "model_module_version": "1.2.0",
      "model_name": "LayoutModel",
      "state": {
       "width": "70px"
      }
     },
     "fe23a4f506754d30831a54e8ae622e69": {
      "model_module": "@jupyter-widgets/base",
      "model_module_version": "1.2.0",
      "model_name": "LayoutModel",
      "state": {
       "width": "145px"
      }
     }
    },
    "version_major": 2,
    "version_minor": 0
   }
  }
 },
 "nbformat": 4,
 "nbformat_minor": 4
}
