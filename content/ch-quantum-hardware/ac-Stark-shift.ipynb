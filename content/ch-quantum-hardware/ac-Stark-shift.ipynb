{
 "cells": [
  {
   "cell_type": "markdown",
   "metadata": {},
   "source": [
    "# Measuring the Qubit ac-Stark Shift\n",
    "\n",
    "### Physics Background\n",
    "\n",
    "Let's consider a qubit with frequency $\\omega_q$ strongly coupled to a resonator with frequency $\\omega_r$ with $\\omega_q<\\omega_r$; the qubit-resonator coupling strength is $g$ and the detuning is $\\Delta=\\omega_q-\\omega_r$. In the dispersive limit, the system can be described using the following Hamiltonian: \n",
    "\n",
    "$H_{JC(disp)}/\\hbar=\\omega_r (a^\\dagger a+\\frac{1}{2}) + \\frac{1}{2} (\\omega_q + \\frac{g^2}{\\Delta} + \\frac{2g^2}{\\Delta} a^\\dagger a) \\sigma_z$\n",
    "\n",
    "where $a$ and $a^\\dagger$ are the raising and lowering operators of the resonator photons, and $\\sigma_z$ is the Pauli-Z operator acting on the qubit. In this frame, the qubit frequency \n",
    "\n",
    "$\\tilde{\\omega}_q=\\omega_q + \\frac{g^2}{\\Delta} + \\frac{2g^2}{\\Delta} \\bar{n}$ \n",
    "\n",
    "experiences a constant Lamb shift of $g^2/\\Delta$ induced by the vacuum fluctuations in the resonator, and an ac-Stark shift of $(2g^2/\\Delta) \\bar{n}$ where $\\bar{n}=\\langle a^\\dagger a \\rangle$ is the average number of photons present in the resonator. For more details checkout this <a href=\"https://arxiv.org/abs/cond-mat/0408367\">paper</a>. In this tutorial, we investigate the ac-Stark shift of the qubit caused by the photon population in the resonator using Qiskit Pulse."
   ]
  },
  {
   "cell_type": "markdown",
   "metadata": {},
   "source": [
    "### 0. Getting started"
   ]
  },
  {
   "cell_type": "markdown",
   "metadata": {},
   "source": [
    "We'll first set up our basic dependencies so we're ready to go."
   ]
  },
  {
   "cell_type": "code",
   "execution_count": 1,
   "metadata": {
    "tags": [
     "uses-hardware"
    ]
   },
   "outputs": [],
   "source": [
    "# Importing standard Qiskit libraries and configuring account\n",
    "from qiskit import QuantumCircuit, execute, Aer, IBMQ\n",
    "from qiskit.compiler import transpile, assemble\n",
    "from qiskit.circuit import Gate\n",
    "from qiskit import schedule as build_schedule\n",
    "# Loading your IBM Q account(s)\n",
    "provider = IBMQ.load_account()\n",
    "provider = IBMQ.get_provider(hub='ibm-q', group='open', project='main')\n",
    "backend = provider.get_backend('ibmq_manila')"
   ]
  },
  {
   "cell_type": "markdown",
   "metadata": {},
   "source": [
    "We then extract the default backend configuration and settings for the selected chip."
   ]
  },
  {
   "cell_type": "code",
   "execution_count": 2,
   "metadata": {
    "tags": [
     "uses-hardware"
    ]
   },
   "outputs": [],
   "source": [
    "backend_config = backend.configuration()\n",
    "backend_defaults = backend.defaults()"
   ]
  },
  {
   "cell_type": "markdown",
   "metadata": {},
   "source": [
    "We specify a control channel from the backend configuration for use in the experiment."
   ]
  },
  {
   "cell_type": "code",
   "execution_count": 3,
   "metadata": {},
   "outputs": [],
   "source": [
    "qind = 0\n",
    "cmap = []\n",
    "for i, j in backend_config.coupling_map:\n",
    "    if i == qind:\n",
    "        cmap.append([i, j])\n",
    "pair = cmap[0]\n",
    "con_chan = backend_config.control(pair)[0]"
   ]
  },
  {
   "cell_type": "markdown",
   "metadata": {},
   "source": [
    "Next, we define some helper functions that we will use for fitting and interpreting our data."
   ]
  },
  {
   "cell_type": "code",
   "execution_count": 4,
   "metadata": {},
   "outputs": [],
   "source": [
    "from scipy.optimize import leastsq,minimize, curve_fit\n",
    "\n",
    "# samples need to be multiples of 16 to accommodate the hardware limitations\n",
    "def get_closest_multiple_of_16(num):\n",
    "    return int(num + 8 ) - (int(num + 8 ) % 16)\n",
    "\n",
    "# lorentzian function\n",
    "def lorentzian(f, f0, k, a, offs):\n",
    "    return a*k/(2*np.pi)/((k/2)**2+(f-f0)**2)+offs\n",
    "\n",
    "#fit_lorentzian takes two arrays that contain the frequencies and experimental output values of each frequency respectively. \n",
    "#returns the lorentzian parameters that best fits this output of the experiment.\n",
    "#popt are the fit parameters and pcov is the covariance matrix for the fit\n",
    "def fit_lorentzian(freqs,values):\n",
    "    p0=[freqs[np.argmax(values)],(freqs[-1]-freqs[0])/2,max(values),0]\n",
    "    bounds=([freqs[0],0,0,-np.inf],[freqs[-1],freqs[-1]-freqs[0],np.inf,np.inf])\n",
    "    popt,pcov=curve_fit(lorentzian, freqs, values, p0=p0, bounds=bounds)\n",
    "    return popt,pcov\n",
    "\n",
    "# Gaussian function\n",
    "def gaussian(f, f0, sigma, a, offs):\n",
    "    return a*np.exp(-(f-f0)**2/(2*sigma**2))+offs\n",
    "\n",
    "#fit_gaussian takes two arrays that contain the frequencies and experimental output values of each frequency respectively. \n",
    "#returns the gaussian parameters that best fits this output of the experiment.\n",
    "#popt are the fit parameters and pcov is the covariance matrix for the fit\n",
    "def fit_gaussian(freqs,values):\n",
    "    p0=[freqs[np.argmax(values)],(freqs[-1]-freqs[0])/2,max(values),0]\n",
    "    bounds=([freqs[0],0,0,-np.inf],[freqs[-1],freqs[-1]-freqs[0],np.inf,np.inf])\n",
    "    popt,pcov=curve_fit(gaussian, freqs, values, p0=p0, bounds=bounds)\n",
    "    return popt,pcov\n",
    "\n",
    "# normalize the data points to fall in the range of [0,1]\n",
    "def normalize(a):\n",
    "    a= a-min(a)\n",
    "    return a/max(a)"
   ]
  },
  {
   "cell_type": "markdown",
   "metadata": {},
   "source": [
    "### 1.  ac-Stark Shifting the qubit\n",
    "In order to ac-Stark shift the qubit we need to populate the resonator with photons using an on-resonance drive. For a drive amplitude $\\epsilon$, and a resonator decay rate of $\\kappa$, the number of photons in the resonator $\\bar{n}=\\langle a^\\dagger a \\rangle = \\frac{\\epsilon^2}{\\Delta^2 +(\\kappa/2)^2}$. As a reminder $\\tilde{\\omega}_q=\\omega_q + \\frac{g^2}{\\Delta} + \\delta \\omega_q$ where the shift in frequency due to ac-Stark shift is $\\delta \\omega_q = \\frac{2g^2}{\\Delta} \\bar{n}$. Since $\\Delta=\\omega_q-\\omega_r<0$ the qubit frequency gets smaller as we increase the of photons in the resonator."
   ]
  },
  {
   "cell_type": "code",
   "execution_count": 5,
   "metadata": {
    "tags": [
     "uses-hardware"
    ]
   },
   "outputs": [],
   "source": [
    "from qiskit import pulse            # This is where we access all of our Pulse features!\n",
    "from qiskit.circuit import Parameter\n",
    "import numpy as np\n",
    "\n",
    "# unit conversion factors -> all backend properties returned in SI (Hz, sec, etc.)\n",
    "GHz = 1.0e9 # Gigahertz\n",
    "MHz = 1.0e6 # Megahertz\n",
    "us = 1.0e-6 # Microseconds\n",
    "ns = 1.0e-9 # Nanoseconds\n",
    "\n",
    "qubit=0   # qubit used in our experiment\n",
    "\n",
    "qubit_drive_sigma = 0.1 * us        #the width of the qubit spectroscopy drive\n",
    "stark_tone_drive_sigma=10 * ns      #This is Gaussian sigma of rising and falling edge\n",
    "drive_duration=8*qubit_drive_sigma  #the stark drive duration\n",
    "\n",
    "start=4.960 * GHz  # qubit spectroscopy start frequency\n",
    "stop=4.980 * GHz   # qubit spectroscopy stop frequency\n",
    "freqs = np.linspace(start, stop, 41)"
   ]
  },
  {
   "cell_type": "code",
   "execution_count": 6,
   "metadata": {
    "tags": [
     "uses-hardware"
    ]
   },
   "outputs": [],
   "source": [
    "# pulse sequence for the experiment at different amplitudes\n",
    "amplitude = Parameter('amplitude')\n",
    "drive_freq = Parameter('drive_freq')\n",
    "control_freq = Parameter('control_freq')\n",
    "with pulse.build(backend=backend, name='ac Stark Shift Experimet') as stark_pulse:\n",
    "    duration = get_closest_multiple_of_16(pulse.seconds_to_samples(drive_duration))\n",
    "    drive_qubit_sigma = pulse.seconds_to_samples(qubit_drive_sigma)\n",
    "    drive_stark_tone_sigma = pulse.seconds_to_samples(stark_tone_drive_sigma)\n",
    "    drive_chan = pulse.drive_channel(qubit)\n",
    "    pulse.set_frequency(drive_freq, drive_chan)\n",
    "    pulse.play(pulse.Gaussian(duration=duration,\n",
    "                              amp = 0.05,\n",
    "                              sigma=drive_qubit_sigma,\n",
    "                              name='qubit tone'), drive_chan)\n",
    "    pulse.set_frequency(control_freq, con_chan)\n",
    "    pulse.play(pulse.GaussianSquare(duration = duration,\n",
    "                                    amp = amplitude,\n",
    "                                    sigma = drive_stark_tone_sigma,\n",
    "                                    risefall_sigma_ratio = 2,\n",
    "                                    name = 'stark tone'), con_chan)"
   ]
  },
  {
   "cell_type": "code",
   "execution_count": 7,
   "metadata": {
    "tags": [
     "uses-hardware"
    ]
   },
   "outputs": [],
   "source": [
    "stark_spect_gate = Gate(\"stark\", 1, [amplitude, drive_freq, control_freq])\n",
    "\n",
    "qc_stark = QuantumCircuit(1, 1)\n",
    "\n",
    "qc_stark.append(stark_spect_gate, [0])\n",
    "qc_stark.measure(0, 0)\n",
    "qc_stark.add_calibration(stark_spect_gate, (0,), stark_pulse)"
   ]
  },
  {
   "cell_type": "code",
   "execution_count": 8,
   "metadata": {},
   "outputs": [],
   "source": [
    "stark_tone_amplitude = np.linspace(0, 0.2, 11) #change to amplitude"
   ]
  },
  {
   "cell_type": "markdown",
   "metadata": {},
   "source": [
    "Here, we send our pulse sequence to the hardware."
   ]
  },
  {
   "cell_type": "code",
   "execution_count": 9,
   "metadata": {
    "scrolled": false,
    "tags": [
     "uses-hardware"
    ]
   },
   "outputs": [
    {
     "name": "stdout",
     "output_type": "stream",
     "text": [
      "Job Status: job has successfully run\n",
      "Job Status: job has successfully run\n",
      "Job Status: job has successfully run\n",
      "Job Status: job has successfully run\n",
      "Job Status: job has successfully run\n",
      "Job Status: job has successfully run\n",
      "Job Status: job has successfully run\n",
      "Job Status: job has successfully run\n",
      "Job Status: job has successfully run\n",
      "Job Status: job has successfully run\n",
      "Job Status: job has successfully run\n"
     ]
    }
   ],
   "source": [
    "from qiskit.tools.monitor import job_monitor\n",
    "\n",
    "num_shots = 4*1024\n",
    "\n",
    "stark_tone_results=[]\n",
    "for amp in stark_tone_amplitude:\n",
    "    qc_stark_circs = [qc_stark.assign_parameters({amplitude: amp , drive_freq: f, control_freq: f - 100 * MHz}, inplace=False) for f in freqs]\n",
    "    job = backend.run(qc_stark_circs, \n",
    "                      meas_level=1, \n",
    "                      meas_return='avg', \n",
    "                      shots=num_shots)\n",
    "    job_monitor(job)\n",
    "    stark_tone_results.append(job.result(timeout=120))"
   ]
  },
  {
   "cell_type": "markdown",
   "metadata": {},
   "source": [
    "And then we access the measurement data."
   ]
  },
  {
   "cell_type": "code",
   "execution_count": 10,
   "metadata": {
    "tags": [
     "uses-hardware"
    ]
   },
   "outputs": [
    {
     "data": {
      "image/png": "[encoded data removed]",
      "text/plain": [
       "<Figure size 432x288 with 1 Axes>"
      ]
     },
     "metadata": {
      "needs_background": "light"
     },
     "output_type": "display_data"
    }
   ],
   "source": [
    "import matplotlib.pyplot as plt\n",
    "\n",
    "skip_idx=0\n",
    "\n",
    "stark_tone_values = []\n",
    "for result in stark_tone_results:\n",
    "    result_values=[]\n",
    "    for i in range(len(result.results)):\n",
    "        result_values.append(result.get_memory(i)[qubit])\n",
    "\n",
    "    stark_tone_values.append(normalize(result_values))\n",
    "    \n",
    "plot_extent=[freqs[0]/GHz, freqs[-1]/GHz, stark_tone_amplitude[skip_idx], stark_tone_amplitude[-1]]\n",
    "plt.imshow(np.abs(stark_tone_values[skip_idx:]), aspect='auto', origin='lower', cmap='viridis',\n",
    "          extent=plot_extent)\n",
    "\n",
    "plt.xlabel('Qubit tone frequency [GHz]')\n",
    "plt.ylabel('Stark tone amplitude [V]')\n",
    "plt.title('Qubit ac-Stark shift')\n",
    "plt.show()"
   ]
  },
  {
   "cell_type": "markdown",
   "metadata": {},
   "source": [
    "### 2.  Qubit frequency shift and linewidth broadening\n",
    "Using the Jaynes-Cummings model we expect a qubit frequency shift of $\\delta \\omega_q = \\frac{2g^2}{\\Delta} \\bar{n}$. The qubit frequency experiences fluctuations due the photon shot-noise which leads to qubit linewidth broadening and a dephasing rate of $\\Gamma_\\phi=\\frac{4 \\chi^2}{\\kappa} \\bar{n}$."
   ]
  },
  {
   "cell_type": "code",
   "execution_count": 11,
   "metadata": {
    "tags": [
     "uses-hardware"
    ]
   },
   "outputs": [
    {
     "data": {
      "image/png": "[encoded data removed]",
      "text/plain": [
       "<Figure size 432x288 with 1 Axes>"
      ]
     },
     "metadata": {
      "needs_background": "light"
     },
     "output_type": "display_data"
    },
    {
     "data": {
      "image/png": "[encoded data removed]",
      "text/plain": [
       "<Figure size 432x288 with 1 Axes>"
      ]
     },
     "metadata": {
      "needs_background": "light"
     },
     "output_type": "display_data"
    }
   ],
   "source": [
    "show_individual_traces=False\n",
    "skip_idx=3  # number of points to skip\n",
    "\n",
    "center=[]\n",
    "fwhm=[]\n",
    "for i in range(len(stark_tone_values)):\n",
    "    popt,pcov=fit_gaussian(freqs,np.abs(np.real(stark_tone_values[i])))\n",
    "    center.append(popt[0])\n",
    "    fwhm.append(2.355*popt[1])\n",
    "    if show_individual_traces:\n",
    "        plt.plot(freqs/1e3, np.real(stark_tone_values[i]))\n",
    "        plt.plot(freqs/1e3, gaussian(freqs,*popt), '--')\n",
    "if show_individual_traces: plt.show()\n",
    "\n",
    "center_fit=np.polyfit(stark_tone_amplitude[skip_idx:], (center[skip_idx:]-center[0]),1)\n",
    "plt.plot(stark_tone_amplitude[skip_idx:], np.poly1d(center_fit/1e6)(stark_tone_amplitude[skip_idx:]), '--', lw=2, color='grey')\n",
    "plt.plot(stark_tone_amplitude[skip_idx:], (center[skip_idx:]-center[0])/1e6, 'o', color='black')\n",
    "plt.xlabel(r'Stark tone amplitude [V]')\n",
    "plt.ylabel(r'$\\delta \\omega_q (MHz)$')\n",
    "plt.show()\n",
    "\n",
    "fwhm_fit=np.polyfit(stark_tone_amplitude[skip_idx:], np.array(fwhm[skip_idx:]),1)\n",
    "plt.plot(stark_tone_amplitude[skip_idx:], np.poly1d(fwhm_fit/1e6)(stark_tone_amplitude[skip_idx:]), '--', lw=2, color='orange')\n",
    "plt.plot(stark_tone_amplitude[skip_idx:], np.array(fwhm[skip_idx:])/1e6, 'o', color='red')\n",
    "plt.xlabel(r'Stark tone amplitude [V]')\n",
    "plt.ylabel(r'FWHM (MHz)')\n",
    "plt.show()"
   ]
  },
  {
   "cell_type": "markdown",
   "metadata": {},
   "source": [
    "In this chapter, we discuss the ac-Stark shift that the qubit experiences due to the presence of photons in the resonator. We use Qiskit Pulse to measure the qubit frequency shift and linewidth broadening."
   ]
  },
  {
   "cell_type": "code",
   "execution_count": 12,
   "metadata": {},
   "outputs": [
    {
     "data": {
      "text/html": [
       "<h3>Version Information</h3><table><tr><th>Qiskit Software</th><th>Version</th></tr><tr><td><code>qiskit-terra</code></td><td>0.19.2</td></tr><tr><td><code>qiskit-aer</code></td><td>0.10.3</td></tr><tr><td><code>qiskit-ignis</code></td><td>0.7.0</td></tr><tr><td><code>qiskit-ibmq-provider</code></td><td>0.18.3</td></tr><tr><td><code>qiskit</code></td><td>0.34.2</td></tr><tr><th>System information</th></tr><tr><td>Python version</td><td>3.8.12</td></tr><tr><td>Python compiler</td><td>MSC v.1916 64 bit (AMD64)</td></tr><tr><td>Python build</td><td>default, Oct 12 2021 03:01:40</td></tr><tr><td>OS</td><td>Windows</td></tr><tr><td>CPUs</td><td>4</td></tr><tr><td>Memory (Gb)</td><td>7.837944030761719</td></tr><tr><td colspan='2'>Fri Jul 15 16:21:13 2022 東京 (標準時)</td></tr></table>"
      ],
      "text/plain": [
       "<IPython.core.display.HTML object>"
      ]
     },
     "metadata": {},
     "output_type": "display_data"
    }
   ],
   "source": [
    "import qiskit.tools.jupyter\n",
    "%qiskit_version_table"
   ]
  }
 ],
 "metadata": {
  "kernelspec": {
   "display_name": "Python 3 (ipykernel)",
   "language": "python",
   "name": "python3"
  },
  "language_info": {
   "codemirror_mode": {
    "name": "ipython",
    "version": 3
   },
   "file_extension": ".py",
   "mimetype": "text/x-python",
   "name": "python",
   "nbconvert_exporter": "python",
   "pygments_lexer": "ipython3",
   "version": "3.8.12"
  }
 },
 "nbformat": 4,
 "nbformat_minor": 4
}
